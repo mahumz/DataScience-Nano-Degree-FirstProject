{
 "cells": [
  {
   "cell_type": "markdown",
   "metadata": {},
   "source": [
    "## 1. BUSINESS UNDERSTANDING\n",
    "My Datasetcontains INformation AirBnB listings in Seattle, calendar availability for each of these listings as well as user reviews on the listings. Using this dataset, I am going to attempt to answer the following business questions.\n",
    "\n",
    "Pricing Trends\n",
    "1. How does pricing increase or decrease by season and what is the peak season in Seattle?\n",
    "2. How does pricing increase or decrease by neighborhood and which ones are the priciest neighborhoods in Seattle?\n",
    "3. How does property types within neighborhoods impact price for the most expensive neighborhoods and most common property types?\n",
    "\n",
    "Sentiment Analysis of Reviews\n",
    "1. How can we categorize reviews based on sentiments?\n",
    "2. Can we map positive and negative sentiments from reviews to neighborhoods to understand which neighborhoonds rank higher on the positive sentiment scale and which ones rank higher on the negative sentiment scale?\n",
    "3. Can we explore some of the worst reviews for additional insights?\n",
    "\n",
    "Price Prediction\n",
    "Can we predict price for a given listing? What factors of the listing correlate best for predicting price?\n",
    "\n",
    "Pricing trend related questions can help understand peak seasons and neighborhood in Seattle and can allow AirBnB to regulate inventory accordingly. It can also help with targeting more effective marketing campaigns.\n",
    "\n",
    "Sentiment analysis of reviews can give AirBnB insight into brand affinity and gauge consumer interest. In addition, associating the sentiments with neighborhoods can detect problematic neighborhoods.\n",
    "\n",
    "Price prediction can help understand what factors mostly correlate with price. This is helpful so these features can be top of mind for AirBnB as well as AirBnB hosts.\n",
    "\n",
    "## 2. DATA UNDERSTANDING\n",
    "Let's look at the data\n",
    "As a first step, I will be reading the 3 files part of the Seattle AirBnB dataset and exploring each of the datasets a bit."
   ]
  },
  {
   "cell_type": "code",
   "execution_count": 2,
   "metadata": {},
   "outputs": [],
   "source": [
    "# Import statements\n",
    "import numpy as np\n",
    "import pandas as pd\n",
    "import os\n",
    "import matplotlib.pyplot as plt\n",
    "from IPython import display\n",
    "%matplotlib inline\n",
    "import seaborn as sns\n",
    "import nltk\n",
    "from nltk.sentiment.vader import SentimentIntensityAnalyzer\n",
    "from collections import Counter\n",
    "from sklearn.model_selection import train_test_split\n",
    "from sklearn.linear_model import LinearRegression\n",
    "from sklearn.metrics import r2_score"
   ]
  },
  {
   "cell_type": "code",
   "execution_count": 3,
   "metadata": {},
   "outputs": [
    {
     "data": {
      "text/html": [
       "<div>\n",
       "<style scoped>\n",
       "    .dataframe tbody tr th:only-of-type {\n",
       "        vertical-align: middle;\n",
       "    }\n",
       "\n",
       "    .dataframe tbody tr th {\n",
       "        vertical-align: top;\n",
       "    }\n",
       "\n",
       "    .dataframe thead th {\n",
       "        text-align: right;\n",
       "    }\n",
       "</style>\n",
       "<table border=\"1\" class=\"dataframe\">\n",
       "  <thead>\n",
       "    <tr style=\"text-align: right;\">\n",
       "      <th></th>\n",
       "      <th>listing_id</th>\n",
       "      <th>date</th>\n",
       "      <th>available</th>\n",
       "      <th>price</th>\n",
       "    </tr>\n",
       "  </thead>\n",
       "  <tbody>\n",
       "    <tr>\n",
       "      <th>0</th>\n",
       "      <td>241032</td>\n",
       "      <td>2016-01-04</td>\n",
       "      <td>t</td>\n",
       "      <td>$85.00</td>\n",
       "    </tr>\n",
       "    <tr>\n",
       "      <th>1</th>\n",
       "      <td>241032</td>\n",
       "      <td>2016-01-05</td>\n",
       "      <td>t</td>\n",
       "      <td>$85.00</td>\n",
       "    </tr>\n",
       "    <tr>\n",
       "      <th>2</th>\n",
       "      <td>241032</td>\n",
       "      <td>2016-01-06</td>\n",
       "      <td>f</td>\n",
       "      <td>NaN</td>\n",
       "    </tr>\n",
       "    <tr>\n",
       "      <th>3</th>\n",
       "      <td>241032</td>\n",
       "      <td>2016-01-07</td>\n",
       "      <td>f</td>\n",
       "      <td>NaN</td>\n",
       "    </tr>\n",
       "    <tr>\n",
       "      <th>4</th>\n",
       "      <td>241032</td>\n",
       "      <td>2016-01-08</td>\n",
       "      <td>f</td>\n",
       "      <td>NaN</td>\n",
       "    </tr>\n",
       "  </tbody>\n",
       "</table>\n",
       "</div>"
      ],
      "text/plain": [
       "   listing_id        date available   price\n",
       "0      241032  2016-01-04         t  $85.00\n",
       "1      241032  2016-01-05         t  $85.00\n",
       "2      241032  2016-01-06         f     NaN\n",
       "3      241032  2016-01-07         f     NaN\n",
       "4      241032  2016-01-08         f     NaN"
      ]
     },
     "execution_count": 3,
     "metadata": {},
     "output_type": "execute_result"
    }
   ],
   "source": [
    "# Read in the calendar data set\n",
    "df_calendar = pd.read_csv('C:/Users/Ahsan Khan/Desktop/Data Science Project 1/calendar.csv')\n",
    "df_calendar.head()"
   ]
  },
  {
   "cell_type": "code",
   "execution_count": 4,
   "metadata": {},
   "outputs": [
    {
     "data": {
      "text/html": [
       "<div>\n",
       "<style scoped>\n",
       "    .dataframe tbody tr th:only-of-type {\n",
       "        vertical-align: middle;\n",
       "    }\n",
       "\n",
       "    .dataframe tbody tr th {\n",
       "        vertical-align: top;\n",
       "    }\n",
       "\n",
       "    .dataframe thead th {\n",
       "        text-align: right;\n",
       "    }\n",
       "</style>\n",
       "<table border=\"1\" class=\"dataframe\">\n",
       "  <thead>\n",
       "    <tr style=\"text-align: right;\">\n",
       "      <th></th>\n",
       "      <th>id</th>\n",
       "      <th>listing_url</th>\n",
       "      <th>scrape_id</th>\n",
       "      <th>last_scraped</th>\n",
       "      <th>name</th>\n",
       "      <th>summary</th>\n",
       "      <th>space</th>\n",
       "      <th>description</th>\n",
       "      <th>experiences_offered</th>\n",
       "      <th>neighborhood_overview</th>\n",
       "      <th>...</th>\n",
       "      <th>review_scores_value</th>\n",
       "      <th>requires_license</th>\n",
       "      <th>license</th>\n",
       "      <th>jurisdiction_names</th>\n",
       "      <th>instant_bookable</th>\n",
       "      <th>cancellation_policy</th>\n",
       "      <th>require_guest_profile_picture</th>\n",
       "      <th>require_guest_phone_verification</th>\n",
       "      <th>calculated_host_listings_count</th>\n",
       "      <th>reviews_per_month</th>\n",
       "    </tr>\n",
       "  </thead>\n",
       "  <tbody>\n",
       "    <tr>\n",
       "      <th>0</th>\n",
       "      <td>241032</td>\n",
       "      <td>https://www.airbnb.com/rooms/241032</td>\n",
       "      <td>20160104002432</td>\n",
       "      <td>2016-01-04</td>\n",
       "      <td>Stylish Queen Anne Apartment</td>\n",
       "      <td>NaN</td>\n",
       "      <td>Make your self at home in this charming one-be...</td>\n",
       "      <td>Make your self at home in this charming one-be...</td>\n",
       "      <td>none</td>\n",
       "      <td>NaN</td>\n",
       "      <td>...</td>\n",
       "      <td>10.0</td>\n",
       "      <td>f</td>\n",
       "      <td>NaN</td>\n",
       "      <td>WASHINGTON</td>\n",
       "      <td>f</td>\n",
       "      <td>moderate</td>\n",
       "      <td>f</td>\n",
       "      <td>f</td>\n",
       "      <td>2</td>\n",
       "      <td>4.07</td>\n",
       "    </tr>\n",
       "    <tr>\n",
       "      <th>1</th>\n",
       "      <td>953595</td>\n",
       "      <td>https://www.airbnb.com/rooms/953595</td>\n",
       "      <td>20160104002432</td>\n",
       "      <td>2016-01-04</td>\n",
       "      <td>Bright &amp; Airy Queen Anne Apartment</td>\n",
       "      <td>Chemically sensitive? We've removed the irrita...</td>\n",
       "      <td>Beautiful, hypoallergenic apartment in an extr...</td>\n",
       "      <td>Chemically sensitive? We've removed the irrita...</td>\n",
       "      <td>none</td>\n",
       "      <td>Queen Anne is a wonderful, truly functional vi...</td>\n",
       "      <td>...</td>\n",
       "      <td>10.0</td>\n",
       "      <td>f</td>\n",
       "      <td>NaN</td>\n",
       "      <td>WASHINGTON</td>\n",
       "      <td>f</td>\n",
       "      <td>strict</td>\n",
       "      <td>t</td>\n",
       "      <td>t</td>\n",
       "      <td>6</td>\n",
       "      <td>1.48</td>\n",
       "    </tr>\n",
       "    <tr>\n",
       "      <th>2</th>\n",
       "      <td>3308979</td>\n",
       "      <td>https://www.airbnb.com/rooms/3308979</td>\n",
       "      <td>20160104002432</td>\n",
       "      <td>2016-01-04</td>\n",
       "      <td>New Modern House-Amazing water view</td>\n",
       "      <td>New modern house built in 2013.  Spectacular s...</td>\n",
       "      <td>Our house is modern, light and fresh with a wa...</td>\n",
       "      <td>New modern house built in 2013.  Spectacular s...</td>\n",
       "      <td>none</td>\n",
       "      <td>Upper Queen Anne is a charming neighborhood fu...</td>\n",
       "      <td>...</td>\n",
       "      <td>10.0</td>\n",
       "      <td>f</td>\n",
       "      <td>NaN</td>\n",
       "      <td>WASHINGTON</td>\n",
       "      <td>f</td>\n",
       "      <td>strict</td>\n",
       "      <td>f</td>\n",
       "      <td>f</td>\n",
       "      <td>2</td>\n",
       "      <td>1.15</td>\n",
       "    </tr>\n",
       "    <tr>\n",
       "      <th>3</th>\n",
       "      <td>7421966</td>\n",
       "      <td>https://www.airbnb.com/rooms/7421966</td>\n",
       "      <td>20160104002432</td>\n",
       "      <td>2016-01-04</td>\n",
       "      <td>Queen Anne Chateau</td>\n",
       "      <td>A charming apartment that sits atop Queen Anne...</td>\n",
       "      <td>NaN</td>\n",
       "      <td>A charming apartment that sits atop Queen Anne...</td>\n",
       "      <td>none</td>\n",
       "      <td>NaN</td>\n",
       "      <td>...</td>\n",
       "      <td>NaN</td>\n",
       "      <td>f</td>\n",
       "      <td>NaN</td>\n",
       "      <td>WASHINGTON</td>\n",
       "      <td>f</td>\n",
       "      <td>flexible</td>\n",
       "      <td>f</td>\n",
       "      <td>f</td>\n",
       "      <td>1</td>\n",
       "      <td>NaN</td>\n",
       "    </tr>\n",
       "    <tr>\n",
       "      <th>4</th>\n",
       "      <td>278830</td>\n",
       "      <td>https://www.airbnb.com/rooms/278830</td>\n",
       "      <td>20160104002432</td>\n",
       "      <td>2016-01-04</td>\n",
       "      <td>Charming craftsman 3 bdm house</td>\n",
       "      <td>Cozy family craftman house in beautiful neighb...</td>\n",
       "      <td>Cozy family craftman house in beautiful neighb...</td>\n",
       "      <td>Cozy family craftman house in beautiful neighb...</td>\n",
       "      <td>none</td>\n",
       "      <td>We are in the beautiful neighborhood of Queen ...</td>\n",
       "      <td>...</td>\n",
       "      <td>9.0</td>\n",
       "      <td>f</td>\n",
       "      <td>NaN</td>\n",
       "      <td>WASHINGTON</td>\n",
       "      <td>f</td>\n",
       "      <td>strict</td>\n",
       "      <td>f</td>\n",
       "      <td>f</td>\n",
       "      <td>1</td>\n",
       "      <td>0.89</td>\n",
       "    </tr>\n",
       "  </tbody>\n",
       "</table>\n",
       "<p>5 rows × 92 columns</p>\n",
       "</div>"
      ],
      "text/plain": [
       "        id                           listing_url       scrape_id last_scraped  \\\n",
       "0   241032   https://www.airbnb.com/rooms/241032  20160104002432   2016-01-04   \n",
       "1   953595   https://www.airbnb.com/rooms/953595  20160104002432   2016-01-04   \n",
       "2  3308979  https://www.airbnb.com/rooms/3308979  20160104002432   2016-01-04   \n",
       "3  7421966  https://www.airbnb.com/rooms/7421966  20160104002432   2016-01-04   \n",
       "4   278830   https://www.airbnb.com/rooms/278830  20160104002432   2016-01-04   \n",
       "\n",
       "                                  name  \\\n",
       "0         Stylish Queen Anne Apartment   \n",
       "1   Bright & Airy Queen Anne Apartment   \n",
       "2  New Modern House-Amazing water view   \n",
       "3                   Queen Anne Chateau   \n",
       "4       Charming craftsman 3 bdm house   \n",
       "\n",
       "                                             summary  \\\n",
       "0                                                NaN   \n",
       "1  Chemically sensitive? We've removed the irrita...   \n",
       "2  New modern house built in 2013.  Spectacular s...   \n",
       "3  A charming apartment that sits atop Queen Anne...   \n",
       "4  Cozy family craftman house in beautiful neighb...   \n",
       "\n",
       "                                               space  \\\n",
       "0  Make your self at home in this charming one-be...   \n",
       "1  Beautiful, hypoallergenic apartment in an extr...   \n",
       "2  Our house is modern, light and fresh with a wa...   \n",
       "3                                                NaN   \n",
       "4  Cozy family craftman house in beautiful neighb...   \n",
       "\n",
       "                                         description experiences_offered  \\\n",
       "0  Make your self at home in this charming one-be...                none   \n",
       "1  Chemically sensitive? We've removed the irrita...                none   \n",
       "2  New modern house built in 2013.  Spectacular s...                none   \n",
       "3  A charming apartment that sits atop Queen Anne...                none   \n",
       "4  Cozy family craftman house in beautiful neighb...                none   \n",
       "\n",
       "                               neighborhood_overview  ... review_scores_value  \\\n",
       "0                                                NaN  ...                10.0   \n",
       "1  Queen Anne is a wonderful, truly functional vi...  ...                10.0   \n",
       "2  Upper Queen Anne is a charming neighborhood fu...  ...                10.0   \n",
       "3                                                NaN  ...                 NaN   \n",
       "4  We are in the beautiful neighborhood of Queen ...  ...                 9.0   \n",
       "\n",
       "  requires_license license jurisdiction_names instant_bookable  \\\n",
       "0                f     NaN         WASHINGTON                f   \n",
       "1                f     NaN         WASHINGTON                f   \n",
       "2                f     NaN         WASHINGTON                f   \n",
       "3                f     NaN         WASHINGTON                f   \n",
       "4                f     NaN         WASHINGTON                f   \n",
       "\n",
       "  cancellation_policy  require_guest_profile_picture  \\\n",
       "0            moderate                              f   \n",
       "1              strict                              t   \n",
       "2              strict                              f   \n",
       "3            flexible                              f   \n",
       "4              strict                              f   \n",
       "\n",
       "  require_guest_phone_verification calculated_host_listings_count  \\\n",
       "0                                f                              2   \n",
       "1                                t                              6   \n",
       "2                                f                              2   \n",
       "3                                f                              1   \n",
       "4                                f                              1   \n",
       "\n",
       "  reviews_per_month  \n",
       "0              4.07  \n",
       "1              1.48  \n",
       "2              1.15  \n",
       "3               NaN  \n",
       "4              0.89  \n",
       "\n",
       "[5 rows x 92 columns]"
      ]
     },
     "execution_count": 4,
     "metadata": {},
     "output_type": "execute_result"
    }
   ],
   "source": [
    "# Read in the listings data set\n",
    "df_listings = pd.read_csv('C:/Users/Ahsan Khan/Desktop/Data Science Project 1/listings.csv')\n",
    "df_listings.head()"
   ]
  },
  {
   "cell_type": "code",
   "execution_count": 7,
   "metadata": {},
   "outputs": [
    {
     "data": {
      "text/html": [
       "<div>\n",
       "<style scoped>\n",
       "    .dataframe tbody tr th:only-of-type {\n",
       "        vertical-align: middle;\n",
       "    }\n",
       "\n",
       "    .dataframe tbody tr th {\n",
       "        vertical-align: top;\n",
       "    }\n",
       "\n",
       "    .dataframe thead th {\n",
       "        text-align: right;\n",
       "    }\n",
       "</style>\n",
       "<table border=\"1\" class=\"dataframe\">\n",
       "  <thead>\n",
       "    <tr style=\"text-align: right;\">\n",
       "      <th></th>\n",
       "      <th>listing_id</th>\n",
       "      <th>id</th>\n",
       "      <th>date</th>\n",
       "      <th>reviewer_id</th>\n",
       "      <th>reviewer_name</th>\n",
       "      <th>comments</th>\n",
       "    </tr>\n",
       "  </thead>\n",
       "  <tbody>\n",
       "    <tr>\n",
       "      <th>0</th>\n",
       "      <td>7202016</td>\n",
       "      <td>38917982</td>\n",
       "      <td>2015-07-19</td>\n",
       "      <td>28943674</td>\n",
       "      <td>Bianca</td>\n",
       "      <td>Cute and cozy place. Perfect location to every...</td>\n",
       "    </tr>\n",
       "    <tr>\n",
       "      <th>1</th>\n",
       "      <td>7202016</td>\n",
       "      <td>39087409</td>\n",
       "      <td>2015-07-20</td>\n",
       "      <td>32440555</td>\n",
       "      <td>Frank</td>\n",
       "      <td>Kelly has a great room in a very central locat...</td>\n",
       "    </tr>\n",
       "    <tr>\n",
       "      <th>2</th>\n",
       "      <td>7202016</td>\n",
       "      <td>39820030</td>\n",
       "      <td>2015-07-26</td>\n",
       "      <td>37722850</td>\n",
       "      <td>Ian</td>\n",
       "      <td>Very spacious apartment, and in a great neighb...</td>\n",
       "    </tr>\n",
       "    <tr>\n",
       "      <th>3</th>\n",
       "      <td>7202016</td>\n",
       "      <td>40813543</td>\n",
       "      <td>2015-08-02</td>\n",
       "      <td>33671805</td>\n",
       "      <td>George</td>\n",
       "      <td>Close to Seattle Center and all it has to offe...</td>\n",
       "    </tr>\n",
       "    <tr>\n",
       "      <th>4</th>\n",
       "      <td>7202016</td>\n",
       "      <td>41986501</td>\n",
       "      <td>2015-08-10</td>\n",
       "      <td>34959538</td>\n",
       "      <td>Ming</td>\n",
       "      <td>Kelly was a great host and very accommodating ...</td>\n",
       "    </tr>\n",
       "  </tbody>\n",
       "</table>\n",
       "</div>"
      ],
      "text/plain": [
       "   listing_id        id        date  reviewer_id reviewer_name  \\\n",
       "0     7202016  38917982  2015-07-19     28943674        Bianca   \n",
       "1     7202016  39087409  2015-07-20     32440555         Frank   \n",
       "2     7202016  39820030  2015-07-26     37722850           Ian   \n",
       "3     7202016  40813543  2015-08-02     33671805        George   \n",
       "4     7202016  41986501  2015-08-10     34959538          Ming   \n",
       "\n",
       "                                            comments  \n",
       "0  Cute and cozy place. Perfect location to every...  \n",
       "1  Kelly has a great room in a very central locat...  \n",
       "2  Very spacious apartment, and in a great neighb...  \n",
       "3  Close to Seattle Center and all it has to offe...  \n",
       "4  Kelly was a great host and very accommodating ...  "
      ]
     },
     "execution_count": 7,
     "metadata": {},
     "output_type": "execute_result"
    }
   ],
   "source": [
    "# Read in the reviews data set\n",
    "df_reviews = pd.read_csv('C:/Users/Ahsan Khan/Desktop/Data Science Project 1/reviews.csv')\n",
    "df_reviews.head()"
   ]
  },
  {
   "cell_type": "markdown",
   "metadata": {},
   "source": [
    "# Exploring the Calendar DataSet"
   ]
  },
  {
   "cell_type": "code",
   "execution_count": 8,
   "metadata": {},
   "outputs": [
    {
     "name": "stdout",
     "output_type": "stream",
     "text": [
      "Number of rows and columns:  (1393570, 4)\n",
      "listing_id         0\n",
      "date               0\n",
      "available          0\n",
      "price         459028\n",
      "dtype: int64\n",
      "          listing_id        date available    price\n",
      "count   1.393570e+06     1393570   1393570   934542\n",
      "unique           NaN         365         2      669\n",
      "top              NaN  2016-07-07         t  $150.00\n",
      "freq             NaN        3818    934542    36646\n",
      "mean    5.550111e+06         NaN       NaN      NaN\n",
      "std     2.962274e+06         NaN       NaN      NaN\n",
      "min     3.335000e+03         NaN       NaN      NaN\n",
      "25%     3.258213e+06         NaN       NaN      NaN\n",
      "50%     6.118244e+06         NaN       NaN      NaN\n",
      "75%     8.035212e+06         NaN       NaN      NaN\n",
      "max     1.034016e+07         NaN       NaN      NaN\n"
     ]
    }
   ],
   "source": [
    "# Print rows and columns in calendar data set\n",
    "print(\"Number of rows and columns: \", df_calendar.shape)\n",
    "# Assess null values\n",
    "print(df_calendar.isnull().sum())\n",
    "# Describe\n",
    "print(df_calendar.describe(include='all'))"
   ]
  },
  {
   "cell_type": "markdown",
   "metadata": {},
   "source": [
    "This Dataset has a few null values in the price column."
   ]
  },
  {
   "cell_type": "markdown",
   "metadata": {},
   "source": [
    "# Exploring the Listings DataSet"
   ]
  },
  {
   "cell_type": "code",
   "execution_count": 9,
   "metadata": {},
   "outputs": [
    {
     "name": "stdout",
     "output_type": "stream",
     "text": [
      "Number of rows and columns:  (3818, 92)\n",
      "id                                    0\n",
      "listing_url                           0\n",
      "scrape_id                             0\n",
      "last_scraped                          0\n",
      "name                                  0\n",
      "                                   ... \n",
      "cancellation_policy                   0\n",
      "require_guest_profile_picture         0\n",
      "require_guest_phone_verification      0\n",
      "calculated_host_listings_count        0\n",
      "reviews_per_month                   627\n",
      "Length: 92, dtype: int64\n"
     ]
    }
   ],
   "source": [
    "# Print rows and columns in calendar data set\n",
    "print(\"Number of rows and columns: \", df_listings.shape)\n",
    "# Assess null values\n",
    "print(df_listings.isnull().sum())"
   ]
  },
  {
   "cell_type": "code",
   "execution_count": 10,
   "metadata": {},
   "outputs": [
    {
     "name": "stdout",
     "output_type": "stream",
     "text": [
      "                  id                           listing_url     scrape_id  \\\n",
      "count   3.818000e+03                                  3818  3.818000e+03   \n",
      "unique           NaN                                  3818           NaN   \n",
      "top              NaN  https://www.airbnb.com/rooms/7561254           NaN   \n",
      "freq             NaN                                     1           NaN   \n",
      "mean    5.550111e+06                                   NaN  2.016010e+13   \n",
      "std     2.962660e+06                                   NaN  0.000000e+00   \n",
      "min     3.335000e+03                                   NaN  2.016010e+13   \n",
      "25%     3.258256e+06                                   NaN  2.016010e+13   \n",
      "50%     6.118244e+06                                   NaN  2.016010e+13   \n",
      "75%     8.035127e+06                                   NaN  2.016010e+13   \n",
      "max     1.034016e+07                                   NaN  2.016010e+13   \n",
      "\n",
      "       last_scraped                    name  \\\n",
      "count          3818                    3818   \n",
      "unique            1                    3792   \n",
      "top      2016-01-04  Capitol Hill Apartment   \n",
      "freq           3818                       3   \n",
      "mean            NaN                     NaN   \n",
      "std             NaN                     NaN   \n",
      "min             NaN                     NaN   \n",
      "25%             NaN                     NaN   \n",
      "50%             NaN                     NaN   \n",
      "75%             NaN                     NaN   \n",
      "max             NaN                     NaN   \n",
      "\n",
      "                                                  summary  \\\n",
      "count                                                3641   \n",
      "unique                                               3478   \n",
      "top     This is a modern fully-furnished studio apartm...   \n",
      "freq                                                   15   \n",
      "mean                                                  NaN   \n",
      "std                                                   NaN   \n",
      "min                                                   NaN   \n",
      "25%                                                   NaN   \n",
      "50%                                                   NaN   \n",
      "75%                                                   NaN   \n",
      "max                                                   NaN   \n",
      "\n",
      "                                                    space  \\\n",
      "count                                                3249   \n",
      "unique                                               3119   \n",
      "top     *Note: This fall, there will be major renovati...   \n",
      "freq                                                   14   \n",
      "mean                                                  NaN   \n",
      "std                                                   NaN   \n",
      "min                                                   NaN   \n",
      "25%                                                   NaN   \n",
      "50%                                                   NaN   \n",
      "75%                                                   NaN   \n",
      "max                                                   NaN   \n",
      "\n",
      "                                              description experiences_offered  \\\n",
      "count                                                3818                3818   \n",
      "unique                                               3742                   1   \n",
      "top     Our space is a mix of a hostel and a home. We ...                none   \n",
      "freq                                                   10                3818   \n",
      "mean                                                  NaN                 NaN   \n",
      "std                                                   NaN                 NaN   \n",
      "min                                                   NaN                 NaN   \n",
      "25%                                                   NaN                 NaN   \n",
      "50%                                                   NaN                 NaN   \n",
      "75%                                                   NaN                 NaN   \n",
      "max                                                   NaN                 NaN   \n",
      "\n",
      "                                    neighborhood_overview  ...  \\\n",
      "count                                                2786  ...   \n",
      "unique                                               2506  ...   \n",
      "top     Wallingford is a mostly-residential neighborho...  ...   \n",
      "freq                                                   17  ...   \n",
      "mean                                                  NaN  ...   \n",
      "std                                                   NaN  ...   \n",
      "min                                                   NaN  ...   \n",
      "25%                                                   NaN  ...   \n",
      "50%                                                   NaN  ...   \n",
      "75%                                                   NaN  ...   \n",
      "max                                                   NaN  ...   \n",
      "\n",
      "       review_scores_value requires_license license jurisdiction_names  \\\n",
      "count          3162.000000             3818     0.0               3818   \n",
      "unique                 NaN                1     NaN                  1   \n",
      "top                    NaN                f     NaN         WASHINGTON   \n",
      "freq                   NaN             3818     NaN               3818   \n",
      "mean              9.452245              NaN     NaN                NaN   \n",
      "std               0.750259              NaN     NaN                NaN   \n",
      "min               2.000000              NaN     NaN                NaN   \n",
      "25%               9.000000              NaN     NaN                NaN   \n",
      "50%              10.000000              NaN     NaN                NaN   \n",
      "75%              10.000000              NaN     NaN                NaN   \n",
      "max              10.000000              NaN     NaN                NaN   \n",
      "\n",
      "       instant_bookable cancellation_policy  require_guest_profile_picture  \\\n",
      "count              3818                3818                           3818   \n",
      "unique                2                   3                              2   \n",
      "top                   f              strict                              f   \n",
      "freq               3227                1417                           3497   \n",
      "mean                NaN                 NaN                            NaN   \n",
      "std                 NaN                 NaN                            NaN   \n",
      "min                 NaN                 NaN                            NaN   \n",
      "25%                 NaN                 NaN                            NaN   \n",
      "50%                 NaN                 NaN                            NaN   \n",
      "75%                 NaN                 NaN                            NaN   \n",
      "max                 NaN                 NaN                            NaN   \n",
      "\n",
      "       require_guest_phone_verification calculated_host_listings_count  \\\n",
      "count                              3818                    3818.000000   \n",
      "unique                                2                            NaN   \n",
      "top                                   f                            NaN   \n",
      "freq                               3443                            NaN   \n",
      "mean                                NaN                       2.946307   \n",
      "std                                 NaN                       5.893029   \n",
      "min                                 NaN                       1.000000   \n",
      "25%                                 NaN                       1.000000   \n",
      "50%                                 NaN                       1.000000   \n",
      "75%                                 NaN                       2.000000   \n",
      "max                                 NaN                      37.000000   \n",
      "\n",
      "       reviews_per_month  \n",
      "count        3191.000000  \n",
      "unique               NaN  \n",
      "top                  NaN  \n",
      "freq                 NaN  \n",
      "mean            2.078919  \n",
      "std             1.822348  \n",
      "min             0.020000  \n",
      "25%             0.695000  \n",
      "50%             1.540000  \n",
      "75%             3.000000  \n",
      "max            12.150000  \n",
      "\n",
      "[11 rows x 92 columns]\n"
     ]
    }
   ],
   "source": [
    "# Describe\n",
    "print(df_listings.describe(include='all'))"
   ]
  },
  {
   "cell_type": "code",
   "execution_count": 9,
   "metadata": {},
   "outputs": [
    {
     "name": "stdout",
     "output_type": "stream",
     "text": [
      "Value counts for experiences_offered:  none    3818\n",
      "Name: experiences_offered, dtype: int64\n"
     ]
    }
   ],
   "source": [
    "# Explore Categorical Feature - experiences_offered\n",
    "print('Value counts for experiences_offered: ', df_listings['experiences_offered'].value_counts())"
   ]
  },
  {
   "cell_type": "code",
   "execution_count": 11,
   "metadata": {},
   "outputs": [
    {
     "name": "stdout",
     "output_type": "stream",
     "text": [
      "Value counts for host_location:  Seattle, Washington, United States                    3259\n",
      "US                                                     246\n",
      "Spokane, Washington, United States                      41\n",
      "Kent, Washington, United States                         34\n",
      "Los Angeles, California, United States                  13\n",
      "                                                      ... \n",
      "Long Beach, California, United States                    1\n",
      "Camano Island                                            1\n",
      "We live in the house upstairs from the rental flat       1\n",
      "Rome, Lazio, Italy                                       1\n",
      "Next door to cottage                                     1\n",
      "Name: host_location, Length: 120, dtype: int64\n"
     ]
    }
   ],
   "source": [
    "# Explore Categorical Feature - host_location\n",
    "print('Value counts for host_location: ', df_listings['host_location'].value_counts())"
   ]
  },
  {
   "cell_type": "markdown",
   "metadata": {},
   "source": [
    "# Things to look at:\n",
    "The experiences offered are None for all rows. The host_location column can use some standardization. For example: \"Seattle, Washington, United States\", \"Seattle\" and \"Seattle, Washington\" should be considered as the same."
   ]
  },
  {
   "cell_type": "code",
   "execution_count": 12,
   "metadata": {},
   "outputs": [
    {
     "data": {
      "image/png": "[encoded data removed]",
      "text/plain": [
       "<Figure size 432x288 with 1 Axes>"
      ]
     },
     "metadata": {
      "needs_background": "light"
     },
     "output_type": "display_data"
    }
   ],
   "source": [
    "# Explore Categorical Feature - host_response_time\n",
    "host_response_vals = df_listings['host_response_time'].value_counts()\n",
    "(host_response_vals/df_listings.shape[0]).plot(kind=\"bar\");\n",
    "plt.title(\"Host Response Times\");\n"
   ]
  },
  {
   "cell_type": "markdown",
   "metadata": {},
   "source": [
    "It looks like a good percentage of hosts respond within an hour."
   ]
  },
  {
   "cell_type": "code",
   "execution_count": 13,
   "metadata": {},
   "outputs": [
    {
     "data": {
      "image/png": "[encoded data removed]",
      "text/plain": [
       "<Figure size 432x288 with 1 Axes>"
      ]
     },
     "metadata": {
      "needs_background": "light"
     },
     "output_type": "display_data"
    }
   ],
   "source": [
    "# Explore Categorical Feature - neighborhood_group_cleansed\n",
    "neigh_vals = df_listings['neighbourhood_group_cleansed'].value_counts()\n",
    "(neigh_vals/df_listings.shape[0]).plot(kind=\"bar\");\n",
    "plt.title(\"Neighbourhood Group Cleansed\");"
   ]
  },
  {
   "cell_type": "code",
   "execution_count": 14,
   "metadata": {},
   "outputs": [
    {
     "data": {
      "image/png": "[encoded data removed]",
      "text/plain": [
       "<Figure size 432x288 with 1 Axes>"
      ]
     },
     "metadata": {
      "needs_background": "light"
     },
     "output_type": "display_data"
    }
   ],
   "source": [
    "# Explore Categorical Feature - property_type\n",
    "prop_vals = df_listings['property_type'].value_counts()\n",
    "(prop_vals/df_listings.shape[0]).plot(kind=\"bar\");\n",
    "plt.title(\"Property Type\");"
   ]
  },
  {
   "cell_type": "markdown",
   "metadata": {},
   "source": [
    "It looks like apartments and houses dominate the listings data set. We can focus on these if needed."
   ]
  },
  {
   "cell_type": "markdown",
   "metadata": {},
   "source": [
    "## Exploring the Reviews DataSet"
   ]
  },
  {
   "cell_type": "code",
   "execution_count": 15,
   "metadata": {},
   "outputs": [
    {
     "name": "stdout",
     "output_type": "stream",
     "text": [
      "Number of rows and columns:  (84849, 6)\n",
      "listing_id        0\n",
      "id                0\n",
      "date              0\n",
      "reviewer_id       0\n",
      "reviewer_name     0\n",
      "comments         18\n",
      "dtype: int64\n",
      "          listing_id            id        date   reviewer_id reviewer_name  \\\n",
      "count   8.484900e+04  8.484900e+04       84849  8.484900e+04         84849   \n",
      "unique           NaN           NaN        1930           NaN         14380   \n",
      "top              NaN           NaN  2015-09-21           NaN         David   \n",
      "freq             NaN           NaN         580           NaN           870   \n",
      "mean    3.005067e+06  3.058765e+07         NaN  1.701301e+07           NaN   \n",
      "std     2.472877e+06  1.636613e+07         NaN  1.353704e+07           NaN   \n",
      "min     4.291000e+03  3.721000e+03         NaN  1.500000e+01           NaN   \n",
      "25%     7.946330e+05  1.725127e+07         NaN  5.053141e+06           NaN   \n",
      "50%     2.488228e+06  3.228809e+07         NaN  1.413476e+07           NaN   \n",
      "75%     4.694479e+06  4.457648e+07         NaN  2.762402e+07           NaN   \n",
      "max     1.024814e+07  5.873651e+07         NaN  5.281274e+07           NaN   \n",
      "\n",
      "                                                 comments  \n",
      "count                                               84831  \n",
      "unique                                              84136  \n",
      "top     The host canceled this reservation the day bef...  \n",
      "freq                                                   57  \n",
      "mean                                                  NaN  \n",
      "std                                                   NaN  \n",
      "min                                                   NaN  \n",
      "25%                                                   NaN  \n",
      "50%                                                   NaN  \n",
      "75%                                                   NaN  \n",
      "max                                                   NaN  \n"
     ]
    }
   ],
   "source": [
    "# Print rows and columns in reviews data set\n",
    "print(\"Number of rows and columns: \", df_reviews.shape)\n",
    "# Assess null values\n",
    "print(df_reviews.isnull().sum())\n",
    "# Describe\n",
    "print(df_reviews.describe(include='all'))"
   ]
  },
  {
   "cell_type": "markdown",
   "metadata": {},
   "source": [
    "# Data Prep"
   ]
  },
  {
   "cell_type": "markdown",
   "metadata": {},
   "source": [
    "### Question 1 - PRICE ANALYSIS\n",
    "##### a. Understand price increases/decreases by season and detect peak season \n",
    "##### b. Understand price increases/decreases by neighborhood and detect pricey neighborhoods \n",
    "##### c. Understand how property types within neighborhoods impact price for some neighborhoods and property types"
   ]
  },
  {
   "cell_type": "code",
   "execution_count": 16,
   "metadata": {},
   "outputs": [
    {
     "data": {
      "image/png": "[encoded data removed]",
      "text/plain": [
       "<Figure size 432x288 with 1 Axes>"
      ]
     },
     "metadata": {
      "needs_background": "light"
     },
     "output_type": "display_data"
    }
   ],
   "source": [
    "# Plot the average price by month \n",
    "df_calendar['year'] = pd.DatetimeIndex(df_calendar['date']).year\n",
    "df_calendar['month'] = pd.DatetimeIndex(df_calendar['date']).month\n",
    "\n",
    "# In order to average price, we will be converting it to float and removing the $ sign\n",
    "df_calendar['price'] = df_calendar['price'].replace('[\\$,]', '', regex=True).astype(float)\n",
    "\n",
    "df_calendar.groupby(['year','month'])[['price']].mean().plot(kind=\"bar\");"
   ]
  },
  {
   "cell_type": "markdown",
   "metadata": {},
   "source": [
    "#### Analysis\n",
    "Based on the above chart, it shows that June through August are the peak months, with July being the highest. \n",
    "\n",
    "The year starts out slow, with January having the lowest average price. Prices start to pick back up a little around Apr/May and Nov/Dec respectively."
   ]
  },
  {
   "cell_type": "code",
   "execution_count": 17,
   "metadata": {},
   "outputs": [
    {
     "name": "stdout",
     "output_type": "stream",
     "text": [
      "                             price\n",
      "neighbourhood_cleansed            \n",
      "Southeast Magnolia      231.705882\n",
      "Portage Bay             227.857143\n",
      "Westlake                194.470588\n",
      "West Queen Anne         187.769231\n",
      "Montlake                182.789474\n",
      "...                            ...\n",
      "North Delridge           76.375000\n",
      "Georgetown               76.125000\n",
      "South Delridge           74.666667\n",
      "Olympic Hills            71.687500\n",
      "Rainier Beach            68.555556\n",
      "\n",
      "[87 rows x 1 columns]\n"
     ]
    },
    {
     "data": {
      "image/png": "[encoded data removed]",
      "text/plain": [
       "<Figure size 432x288 with 1 Axes>"
      ]
     },
     "metadata": {
      "needs_background": "light"
     },
     "output_type": "display_data"
    }
   ],
   "source": [
    "# Plot the average price by neighborhood\n",
    "\n",
    "# In order to average price, we will be converting it to float and removing the $ sign\n",
    "df_listings['price'] = df_listings['price'].replace('[\\$,]', '', regex=True).astype(float)\n",
    "\n",
    "print(df_listings.groupby(['neighbourhood_cleansed'])[['price']].mean().sort_values(by='price',ascending=False))\n",
    "df_listings.groupby(['neighbourhood_cleansed'])[['price']].mean().plot();\n"
   ]
  },
  {
   "cell_type": "code",
   "execution_count": 18,
   "metadata": {},
   "outputs": [
    {
     "data": {
      "image/png": "[encoded data removed]",
      "text/plain": [
       "<Figure size 432x288 with 1 Axes>"
      ]
     },
     "metadata": {
      "needs_background": "light"
     },
     "output_type": "display_data"
    }
   ],
   "source": [
    "# Plot top 10 neighborhoods\n",
    "top10_neigh = df_listings.groupby(['neighbourhood_cleansed'])[['price']].mean().sort_values(by='price',ascending=False).head()\n",
    "top10_neigh.plot(kind='bar');"
   ]
  },
  {
   "cell_type": "code",
   "execution_count": 19,
   "metadata": {},
   "outputs": [
    {
     "data": {
      "image/png": "[encoded data removed]",
      "text/plain": [
       "<Figure size 432x288 with 1 Axes>"
      ]
     },
     "metadata": {
      "needs_background": "light"
     },
     "output_type": "display_data"
    }
   ],
   "source": [
    "# Plot bottom 10 neighborhoods\n",
    "bottom10_neigh = df_listings.groupby(['neighbourhood_cleansed'])[['price']].mean().sort_values(by='price',ascending=False).tail()\n",
    "bottom10_neigh.plot(kind='bar');"
   ]
  },
  {
   "cell_type": "markdown",
   "metadata": {},
   "source": [
    "#### Analysis\n",
    "Based on above findings, there is definitely price fluctuations based on neighborhoods. \n"
   ]
  },
  {
   "cell_type": "code",
   "execution_count": 20,
   "metadata": {},
   "outputs": [
    {
     "data": {
      "text/html": [
       "<div>\n",
       "<style scoped>\n",
       "    .dataframe tbody tr th:only-of-type {\n",
       "        vertical-align: middle;\n",
       "    }\n",
       "\n",
       "    .dataframe tbody tr th {\n",
       "        vertical-align: top;\n",
       "    }\n",
       "\n",
       "    .dataframe thead th {\n",
       "        text-align: right;\n",
       "    }\n",
       "</style>\n",
       "<table border=\"1\" class=\"dataframe\">\n",
       "  <thead>\n",
       "    <tr style=\"text-align: right;\">\n",
       "      <th></th>\n",
       "      <th>neighbourhood_cleansed</th>\n",
       "      <th>property_type</th>\n",
       "      <th>price</th>\n",
       "    </tr>\n",
       "  </thead>\n",
       "  <tbody>\n",
       "    <tr>\n",
       "      <th>0</th>\n",
       "      <td>Montlake</td>\n",
       "      <td>Apartment</td>\n",
       "      <td>133.333333</td>\n",
       "    </tr>\n",
       "    <tr>\n",
       "      <th>1</th>\n",
       "      <td>Montlake</td>\n",
       "      <td>House</td>\n",
       "      <td>191.533333</td>\n",
       "    </tr>\n",
       "    <tr>\n",
       "      <th>2</th>\n",
       "      <td>Portage Bay</td>\n",
       "      <td>Apartment</td>\n",
       "      <td>113.833333</td>\n",
       "    </tr>\n",
       "    <tr>\n",
       "      <th>3</th>\n",
       "      <td>Portage Bay</td>\n",
       "      <td>House</td>\n",
       "      <td>340.285714</td>\n",
       "    </tr>\n",
       "    <tr>\n",
       "      <th>4</th>\n",
       "      <td>Southeast Magnolia</td>\n",
       "      <td>Apartment</td>\n",
       "      <td>219.600000</td>\n",
       "    </tr>\n",
       "    <tr>\n",
       "      <th>5</th>\n",
       "      <td>Southeast Magnolia</td>\n",
       "      <td>House</td>\n",
       "      <td>234.100000</td>\n",
       "    </tr>\n",
       "    <tr>\n",
       "      <th>6</th>\n",
       "      <td>West Queen Anne</td>\n",
       "      <td>Apartment</td>\n",
       "      <td>128.208333</td>\n",
       "    </tr>\n",
       "    <tr>\n",
       "      <th>7</th>\n",
       "      <td>West Queen Anne</td>\n",
       "      <td>House</td>\n",
       "      <td>247.393939</td>\n",
       "    </tr>\n",
       "    <tr>\n",
       "      <th>8</th>\n",
       "      <td>Westlake</td>\n",
       "      <td>Apartment</td>\n",
       "      <td>142.400000</td>\n",
       "    </tr>\n",
       "    <tr>\n",
       "      <th>9</th>\n",
       "      <td>Westlake</td>\n",
       "      <td>House</td>\n",
       "      <td>168.000000</td>\n",
       "    </tr>\n",
       "  </tbody>\n",
       "</table>\n",
       "</div>"
      ],
      "text/plain": [
       "  neighbourhood_cleansed property_type       price\n",
       "0               Montlake     Apartment  133.333333\n",
       "1               Montlake         House  191.533333\n",
       "2            Portage Bay     Apartment  113.833333\n",
       "3            Portage Bay         House  340.285714\n",
       "4     Southeast Magnolia     Apartment  219.600000\n",
       "5     Southeast Magnolia         House  234.100000\n",
       "6        West Queen Anne     Apartment  128.208333\n",
       "7        West Queen Anne         House  247.393939\n",
       "8               Westlake     Apartment  142.400000\n",
       "9               Westlake         House  168.000000"
      ]
     },
     "execution_count": 20,
     "metadata": {},
     "output_type": "execute_result"
    }
   ],
   "source": [
    "# Explore property types within neighborhoods and how they impact price\n",
    "# Focus on the top 5 expensive Neighborhoods from above - Southeast Magnolia, Portage Bay, Westlake, West Queen Anne and Montlake\n",
    "# Focus on property types - House and Apartment\n",
    "\n",
    "values_keep_neigh = ('Southeast Magnolia','Portage Bay','Westlake','West Queen Anne','Montlake')\n",
    "values_keep_prop = ('Apartment','House')\n",
    "df_listings_pruned1 = df_listings.loc[df_listings['neighbourhood_cleansed'].isin(values_keep_neigh)]\n",
    "df_listings_pruned2 = df_listings_pruned1.loc[df_listings['property_type'].isin(values_keep_prop)]\n",
    "\n",
    "df_neigh_prop = df_listings_pruned2.groupby(['neighbourhood_cleansed','property_type'])[['price']].mean().reset_index()\n",
    "df_neigh_prop"
   ]
  },
  {
   "cell_type": "code",
   "execution_count": 21,
   "metadata": {},
   "outputs": [
    {
     "data": {
      "text/plain": [
       "(5, 2)"
      ]
     },
     "execution_count": 21,
     "metadata": {},
     "output_type": "execute_result"
    }
   ],
   "source": [
    "price_arr = df_neigh_prop['price'].values\n",
    "price_arr = np.reshape(price_arr, (5,2))\n",
    "price_arr.shape"
   ]
  },
  {
   "cell_type": "code",
   "execution_count": 22,
   "metadata": {},
   "outputs": [
    {
     "data": {
      "image/png": "[encoded data removed]",
      "text/plain": [
       "<Figure size 432x288 with 2 Axes>"
      ]
     },
     "metadata": {
      "needs_background": "light"
     },
     "output_type": "display_data"
    }
   ],
   "source": [
    "\n",
    "# Heatmap reference: https://stackoverflow.com/questions/12286607/making-heatmap-from-pandas-dataframe\n",
    "idx = ['Southeast Magnolia','Portage Bay','Westlake','West Queen Anne','Montlake']\n",
    "cols = ['Apartment', 'House']\n",
    "df = pd.DataFrame(price_arr, index=idx, columns=cols)\n",
    "\n",
    "# _r reverses the normal order of the color map 'RdYlGn'\n",
    "sns.heatmap(df, cmap='RdYlGn_r', linewidths=0.5, annot=True);"
   ]
  },
  {
   "cell_type": "markdown",
   "metadata": {},
   "source": [
    "#### Analysis\n",
    "We focused on the top 5 expensive neighbourhoods from above finds as well as Houses and Apartments mostly since based on the previous analysis, we know they make up a good percentage of property types.\n",
    "\n",
    "Based on the above, we can see that Houses in Portage Bay are the most expensive followed by Houses in West Queen Anne and Westlake. It is interesting to note that in Westlake, both Houses and Apartments can be found at approx. the same price."
   ]
  },
  {
   "cell_type": "markdown",
   "metadata": {},
   "source": [
    "#### Question 2 - ANALYSIS OF REVIEWS\n",
    "##### a. Understand positive and negative sentiments from review comments\n",
    "##### b. Map the positive and negative sentiments to neighborhoods to understand which neighborhoonds rank higher on the positive sentiment scale and which ones rank higher on the negative sentiment scale\n",
    "##### c. Explore some of the worst reviews"
   ]
  },
  {
   "cell_type": "code",
   "execution_count": 23,
   "metadata": {},
   "outputs": [
    {
     "data": {
      "text/html": [
       "<div>\n",
       "<style scoped>\n",
       "    .dataframe tbody tr th:only-of-type {\n",
       "        vertical-align: middle;\n",
       "    }\n",
       "\n",
       "    .dataframe tbody tr th {\n",
       "        vertical-align: top;\n",
       "    }\n",
       "\n",
       "    .dataframe thead th {\n",
       "        text-align: right;\n",
       "    }\n",
       "</style>\n",
       "<table border=\"1\" class=\"dataframe\">\n",
       "  <thead>\n",
       "    <tr style=\"text-align: right;\">\n",
       "      <th></th>\n",
       "      <th>listing_id</th>\n",
       "      <th>comments</th>\n",
       "    </tr>\n",
       "  </thead>\n",
       "  <tbody>\n",
       "    <tr>\n",
       "      <th>0</th>\n",
       "      <td>7202016</td>\n",
       "      <td>Cute and cozy place. Perfect location to every...</td>\n",
       "    </tr>\n",
       "    <tr>\n",
       "      <th>1</th>\n",
       "      <td>7202016</td>\n",
       "      <td>Kelly has a great room in a very central locat...</td>\n",
       "    </tr>\n",
       "    <tr>\n",
       "      <th>2</th>\n",
       "      <td>7202016</td>\n",
       "      <td>Very spacious apartment, and in a great neighb...</td>\n",
       "    </tr>\n",
       "    <tr>\n",
       "      <th>3</th>\n",
       "      <td>7202016</td>\n",
       "      <td>Close to Seattle Center and all it has to offe...</td>\n",
       "    </tr>\n",
       "    <tr>\n",
       "      <th>4</th>\n",
       "      <td>7202016</td>\n",
       "      <td>Kelly was a great host and very accommodating ...</td>\n",
       "    </tr>\n",
       "  </tbody>\n",
       "</table>\n",
       "</div>"
      ],
      "text/plain": [
       "   listing_id                                           comments\n",
       "0     7202016  Cute and cozy place. Perfect location to every...\n",
       "1     7202016  Kelly has a great room in a very central locat...\n",
       "2     7202016  Very spacious apartment, and in a great neighb...\n",
       "3     7202016  Close to Seattle Center and all it has to offe...\n",
       "4     7202016  Kelly was a great host and very accommodating ..."
      ]
     },
     "execution_count": 23,
     "metadata": {},
     "output_type": "execute_result"
    }
   ],
   "source": [
    "# Create a smaller data frame with just listing ids and review comments\n",
    "df_comments = df_reviews[['listing_id', 'comments']].copy()\n",
    "df_comments.head()"
   ]
  },
  {
   "cell_type": "code",
   "execution_count": 24,
   "metadata": {},
   "outputs": [
    {
     "data": {
      "text/plain": [
       "'Lower Queen Anne'"
      ]
     },
     "execution_count": 24,
     "metadata": {},
     "output_type": "execute_result"
    }
   ],
   "source": [
    "# Function to take a listing id and pass back the neighbourhood_cleansed field from the listings data set\n",
    "# Initially, I tried with the neighbourhood field in the listings dataset, but found that some values were blank, so I used neighbourhood_cleansed field\n",
    "def get_neighborhood(listing_id):\n",
    "    '''\n",
    "    Function to take a listing id and pass back the neighbourhood_cleansed field from the listings data set\n",
    "    INPUT:\n",
    "    listing_id - listing_id field for a particular listing\n",
    "    OUTPUT:\n",
    "    neighbourhood - the neighbourhood_cleansed field associated with a particular listing_id\n",
    "    \n",
    "    Helps to map each listing_id to it's respective neighbourhood in order to associate reviews with neighbourhoods\n",
    "    '''\n",
    "    neighbourhood = df_listings.loc[df_listings['id'] == listing_id, 'neighbourhood_cleansed'].iloc[0]\n",
    "    return neighbourhood\n",
    "\n",
    "# Test function\n",
    "get_neighborhood(7202016)"
   ]
  },
  {
   "cell_type": "code",
   "execution_count": 25,
   "metadata": {},
   "outputs": [
    {
     "data": {
      "text/html": [
       "<div>\n",
       "<style scoped>\n",
       "    .dataframe tbody tr th:only-of-type {\n",
       "        vertical-align: middle;\n",
       "    }\n",
       "\n",
       "    .dataframe tbody tr th {\n",
       "        vertical-align: top;\n",
       "    }\n",
       "\n",
       "    .dataframe thead th {\n",
       "        text-align: right;\n",
       "    }\n",
       "</style>\n",
       "<table border=\"1\" class=\"dataframe\">\n",
       "  <thead>\n",
       "    <tr style=\"text-align: right;\">\n",
       "      <th></th>\n",
       "      <th>listing_id</th>\n",
       "      <th>comments</th>\n",
       "      <th>neighbourhood</th>\n",
       "    </tr>\n",
       "  </thead>\n",
       "  <tbody>\n",
       "    <tr>\n",
       "      <th>0</th>\n",
       "      <td>7202016</td>\n",
       "      <td>Cute and cozy place. Perfect location to every...</td>\n",
       "      <td>Lower Queen Anne</td>\n",
       "    </tr>\n",
       "    <tr>\n",
       "      <th>1</th>\n",
       "      <td>7202016</td>\n",
       "      <td>Kelly has a great room in a very central locat...</td>\n",
       "      <td>Lower Queen Anne</td>\n",
       "    </tr>\n",
       "    <tr>\n",
       "      <th>2</th>\n",
       "      <td>7202016</td>\n",
       "      <td>Very spacious apartment, and in a great neighb...</td>\n",
       "      <td>Lower Queen Anne</td>\n",
       "    </tr>\n",
       "    <tr>\n",
       "      <th>3</th>\n",
       "      <td>7202016</td>\n",
       "      <td>Close to Seattle Center and all it has to offe...</td>\n",
       "      <td>Lower Queen Anne</td>\n",
       "    </tr>\n",
       "    <tr>\n",
       "      <th>4</th>\n",
       "      <td>7202016</td>\n",
       "      <td>Kelly was a great host and very accommodating ...</td>\n",
       "      <td>Lower Queen Anne</td>\n",
       "    </tr>\n",
       "  </tbody>\n",
       "</table>\n",
       "</div>"
      ],
      "text/plain": [
       "   listing_id                                           comments  \\\n",
       "0     7202016  Cute and cozy place. Perfect location to every...   \n",
       "1     7202016  Kelly has a great room in a very central locat...   \n",
       "2     7202016  Very spacious apartment, and in a great neighb...   \n",
       "3     7202016  Close to Seattle Center and all it has to offe...   \n",
       "4     7202016  Kelly was a great host and very accommodating ...   \n",
       "\n",
       "      neighbourhood  \n",
       "0  Lower Queen Anne  \n",
       "1  Lower Queen Anne  \n",
       "2  Lower Queen Anne  \n",
       "3  Lower Queen Anne  \n",
       "4  Lower Queen Anne  "
      ]
     },
     "execution_count": 25,
     "metadata": {},
     "output_type": "execute_result"
    }
   ],
   "source": [
    "# Apply get_neighborhood function to the listing ids\n",
    "df_comments['neighbourhood'] = df_comments['listing_id'].apply(get_neighborhood)\n",
    "df_comments.head()"
   ]
  },
  {
   "cell_type": "code",
   "execution_count": 26,
   "metadata": {},
   "outputs": [
    {
     "data": {
      "text/plain": [
       "0"
      ]
     },
     "execution_count": 26,
     "metadata": {},
     "output_type": "execute_result"
    }
   ],
   "source": [
    "# Check to see if any listing ids don't have neighborhoods associated\n",
    "df_comments['neighbourhood'].isnull().sum()"
   ]
  },
  {
   "cell_type": "code",
   "execution_count": 28,
   "metadata": {},
   "outputs": [
    {
     "data": {
      "text/html": [
       "<div>\n",
       "<style scoped>\n",
       "    .dataframe tbody tr th:only-of-type {\n",
       "        vertical-align: middle;\n",
       "    }\n",
       "\n",
       "    .dataframe tbody tr th {\n",
       "        vertical-align: top;\n",
       "    }\n",
       "\n",
       "    .dataframe thead th {\n",
       "        text-align: right;\n",
       "    }\n",
       "</style>\n",
       "<table border=\"1\" class=\"dataframe\">\n",
       "  <thead>\n",
       "    <tr style=\"text-align: right;\">\n",
       "      <th></th>\n",
       "      <th>listing_id</th>\n",
       "      <th>comments</th>\n",
       "      <th>neighbourhood</th>\n",
       "      <th>polarity_score</th>\n",
       "    </tr>\n",
       "  </thead>\n",
       "  <tbody>\n",
       "    <tr>\n",
       "      <th>0</th>\n",
       "      <td>7202016</td>\n",
       "      <td>Cute and cozy place. Perfect location to every...</td>\n",
       "      <td>Lower Queen Anne</td>\n",
       "      <td>0.7901</td>\n",
       "    </tr>\n",
       "    <tr>\n",
       "      <th>1</th>\n",
       "      <td>7202016</td>\n",
       "      <td>Kelly has a great room in a very central locat...</td>\n",
       "      <td>Lower Queen Anne</td>\n",
       "      <td>0.9875</td>\n",
       "    </tr>\n",
       "    <tr>\n",
       "      <th>2</th>\n",
       "      <td>7202016</td>\n",
       "      <td>Very spacious apartment, and in a great neighb...</td>\n",
       "      <td>Lower Queen Anne</td>\n",
       "      <td>0.8718</td>\n",
       "    </tr>\n",
       "    <tr>\n",
       "      <th>3</th>\n",
       "      <td>7202016</td>\n",
       "      <td>Close to Seattle Center and all it has to offe...</td>\n",
       "      <td>Lower Queen Anne</td>\n",
       "      <td>0.8313</td>\n",
       "    </tr>\n",
       "    <tr>\n",
       "      <th>4</th>\n",
       "      <td>7202016</td>\n",
       "      <td>Kelly was a great host and very accommodating ...</td>\n",
       "      <td>Lower Queen Anne</td>\n",
       "      <td>0.9783</td>\n",
       "    </tr>\n",
       "  </tbody>\n",
       "</table>\n",
       "</div>"
      ],
      "text/plain": [
       "   listing_id                                           comments  \\\n",
       "0     7202016  Cute and cozy place. Perfect location to every...   \n",
       "1     7202016  Kelly has a great room in a very central locat...   \n",
       "2     7202016  Very spacious apartment, and in a great neighb...   \n",
       "3     7202016  Close to Seattle Center and all it has to offe...   \n",
       "4     7202016  Kelly was a great host and very accommodating ...   \n",
       "\n",
       "      neighbourhood  polarity_score  \n",
       "0  Lower Queen Anne          0.7901  \n",
       "1  Lower Queen Anne          0.9875  \n",
       "2  Lower Queen Anne          0.8718  \n",
       "3  Lower Queen Anne          0.8313  \n",
       "4  Lower Queen Anne          0.9783  "
      ]
     },
     "execution_count": 28,
     "metadata": {},
     "output_type": "execute_result"
    }
   ],
   "source": [
    "from vaderSentiment.vaderSentiment import SentimentIntensityAnalyzer\n",
    "analyser = SentimentIntensityAnalyzer()\n",
    "# SentimentIntensityAnalyzer reference: https://medium.com/analytics-vidhya/simplifying-social-media-sentiment-analysis-using-vader-in-python-f9e6ec6fc52f\n",
    "\n",
    "analyser = SentimentIntensityAnalyzer()\n",
    "\n",
    "def sentiment_analyzer_scores(sentence):\n",
    "    '''\n",
    "    Function to run sentiment intensity analyzer on a sentence and return compound polarity score\n",
    "    INPUT:\n",
    "    sentence - the text of the review comments \n",
    "    OUTPUT:\n",
    "    score['compound'] - the compound score combining the positive, negative and neutral scores\n",
    "    \n",
    "    Provides the compound score for a particular sentence for sentiment analysis\n",
    "    '''\n",
    "    sentence = str(sentence)\n",
    "    score = analyser.polarity_scores(sentence)\n",
    "    return score['compound']\n",
    "\n",
    "\n",
    "df_comments['polarity_score'] = df_comments['comments'].apply(sentiment_analyzer_scores)\n",
    "df_comments.head()"
   ]
  },
  {
   "cell_type": "code",
   "execution_count": 29,
   "metadata": {},
   "outputs": [
    {
     "name": "stdout",
     "output_type": "stream",
     "text": [
      "Positive compound scores:  82554\n",
      "Negative compound scores:  743\n",
      "Neutral compound scores:  1552\n"
     ]
    }
   ],
   "source": [
    "# Print number of positive, negative and neutral compound polarity scores\n",
    "print('Positive compound scores: ',df_comments['polarity_score'][df_comments['polarity_score'] > 0].count())\n",
    "print('Negative compound scores: ',df_comments['polarity_score'][df_comments['polarity_score'] < 0].count())\n",
    "print('Neutral compound scores: ',df_comments['polarity_score'][df_comments['polarity_score'] == 0].count())"
   ]
  },
  {
   "cell_type": "code",
   "execution_count": 30,
   "metadata": {},
   "outputs": [],
   "source": [
    "# Group by neighbourhood and average the polarity scores\n",
    "neigh_polarity = df_comments.groupby('neighbourhood')[['polarity_score']].mean().sort_values(by='polarity_score',ascending=False)"
   ]
  },
  {
   "cell_type": "code",
   "execution_count": 31,
   "metadata": {},
   "outputs": [
    {
     "data": {
      "image/png": "[encoded data removed]",
      "text/plain": [
       "<Figure size 432x288 with 1 Axes>"
      ]
     },
     "metadata": {
      "needs_background": "light"
     },
     "output_type": "display_data"
    }
   ],
   "source": [
    "# Visualize top neighborhoods based on reviews\n",
    "neigh_polarity.head(10).plot(kind='bar');"
   ]
  },
  {
   "cell_type": "code",
   "execution_count": 32,
   "metadata": {},
   "outputs": [
    {
     "data": {
      "image/png": "[encoded data removed]",
      "text/plain": [
       "<Figure size 432x288 with 1 Axes>"
      ]
     },
     "metadata": {
      "needs_background": "light"
     },
     "output_type": "display_data"
    }
   ],
   "source": [
    "# Visualize bottom 10 neighborhoods based on reviews\n",
    "neigh_polarity.tail(10).plot(kind='bar');"
   ]
  },
  {
   "cell_type": "markdown",
   "metadata": {},
   "source": [
    "#### Analysis\n",
    "Roxhill, Cedar Park and Pinehurst are some of the neighborhoods that have top reviews. Relatively, the lower ranking neighborhoods are University District, Holly Park and View Ridge"
   ]
  },
  {
   "cell_type": "code",
   "execution_count": 33,
   "metadata": {},
   "outputs": [
    {
     "data": {
      "text/html": [
       "<div>\n",
       "<style scoped>\n",
       "    .dataframe tbody tr th:only-of-type {\n",
       "        vertical-align: middle;\n",
       "    }\n",
       "\n",
       "    .dataframe tbody tr th {\n",
       "        vertical-align: top;\n",
       "    }\n",
       "\n",
       "    .dataframe thead th {\n",
       "        text-align: right;\n",
       "    }\n",
       "</style>\n",
       "<table border=\"1\" class=\"dataframe\">\n",
       "  <thead>\n",
       "    <tr style=\"text-align: right;\">\n",
       "      <th></th>\n",
       "      <th>listing_id</th>\n",
       "      <th>comments</th>\n",
       "      <th>neighbourhood</th>\n",
       "      <th>polarity_score</th>\n",
       "    </tr>\n",
       "  </thead>\n",
       "  <tbody>\n",
       "    <tr>\n",
       "      <th>14908</th>\n",
       "      <td>685600</td>\n",
       "      <td>Das Zimmer war wie beschrieben und die Umgebun...</td>\n",
       "      <td>Lawton Park</td>\n",
       "      <td>-0.9885</td>\n",
       "    </tr>\n",
       "    <tr>\n",
       "      <th>1786</th>\n",
       "      <td>208356</td>\n",
       "      <td>Die Unterkunft ist so wie beschrieben und die ...</td>\n",
       "      <td>International District</td>\n",
       "      <td>-0.9892</td>\n",
       "    </tr>\n",
       "    <tr>\n",
       "      <th>36603</th>\n",
       "      <td>189156</td>\n",
       "      <td>Although this unit was in a very nice part of ...</td>\n",
       "      <td>Seaview</td>\n",
       "      <td>-0.9904</td>\n",
       "    </tr>\n",
       "    <tr>\n",
       "      <th>68659</th>\n",
       "      <td>9519968</td>\n",
       "      <td>Do NOT rent this house if you are not the clea...</td>\n",
       "      <td>Montlake</td>\n",
       "      <td>-0.9906</td>\n",
       "    </tr>\n",
       "    <tr>\n",
       "      <th>18347</th>\n",
       "      <td>26116</td>\n",
       "      <td>Für den Aufenthalt in einer fremdem Stadt hatt...</td>\n",
       "      <td>Broadway</td>\n",
       "      <td>-0.9927</td>\n",
       "    </tr>\n",
       "    <tr>\n",
       "      <th>75564</th>\n",
       "      <td>1775016</td>\n",
       "      <td>Staying at Robert’s place was a nightmare. At ...</td>\n",
       "      <td>Broadway</td>\n",
       "      <td>-0.9941</td>\n",
       "    </tr>\n",
       "    <tr>\n",
       "      <th>32404</th>\n",
       "      <td>3291777</td>\n",
       "      <td>Melissa replied to our request and approved bu...</td>\n",
       "      <td>University District</td>\n",
       "      <td>-0.9956</td>\n",
       "    </tr>\n",
       "    <tr>\n",
       "      <th>84378</th>\n",
       "      <td>4577542</td>\n",
       "      <td>Die Unterkunft war sehr schön und genau so, wi...</td>\n",
       "      <td>Minor</td>\n",
       "      <td>-0.9961</td>\n",
       "    </tr>\n",
       "    <tr>\n",
       "      <th>29434</th>\n",
       "      <td>1018204</td>\n",
       "      <td>leider war esnicht so fein, da die unterkunft ...</td>\n",
       "      <td>Minor</td>\n",
       "      <td>-0.9967</td>\n",
       "    </tr>\n",
       "    <tr>\n",
       "      <th>50261</th>\n",
       "      <td>258571</td>\n",
       "      <td>Wir sind 5 Nächte geblieben. Und es ist eine A...</td>\n",
       "      <td>Broadway</td>\n",
       "      <td>-0.9973</td>\n",
       "    </tr>\n",
       "  </tbody>\n",
       "</table>\n",
       "</div>"
      ],
      "text/plain": [
       "       listing_id                                           comments  \\\n",
       "14908      685600  Das Zimmer war wie beschrieben und die Umgebun...   \n",
       "1786       208356  Die Unterkunft ist so wie beschrieben und die ...   \n",
       "36603      189156  Although this unit was in a very nice part of ...   \n",
       "68659     9519968  Do NOT rent this house if you are not the clea...   \n",
       "18347       26116  Für den Aufenthalt in einer fremdem Stadt hatt...   \n",
       "75564     1775016  Staying at Robert’s place was a nightmare. At ...   \n",
       "32404     3291777  Melissa replied to our request and approved bu...   \n",
       "84378     4577542  Die Unterkunft war sehr schön und genau so, wi...   \n",
       "29434     1018204  leider war esnicht so fein, da die unterkunft ...   \n",
       "50261      258571  Wir sind 5 Nächte geblieben. Und es ist eine A...   \n",
       "\n",
       "                neighbourhood  polarity_score  \n",
       "14908             Lawton Park         -0.9885  \n",
       "1786   International District         -0.9892  \n",
       "36603                 Seaview         -0.9904  \n",
       "68659                Montlake         -0.9906  \n",
       "18347                Broadway         -0.9927  \n",
       "75564                Broadway         -0.9941  \n",
       "32404     University District         -0.9956  \n",
       "84378                   Minor         -0.9961  \n",
       "29434                   Minor         -0.9967  \n",
       "50261                Broadway         -0.9973  "
      ]
     },
     "execution_count": 33,
     "metadata": {},
     "output_type": "execute_result"
    }
   ],
   "source": [
    "# Explore the worst reviews\n",
    "df_comments.sort_values(by='polarity_score',ascending=False).tail(10)"
   ]
  },
  {
   "cell_type": "markdown",
   "metadata": {},
   "source": [
    "#### Analysis\n",
    "We can see most of the reviews that were rated badly on the polarity score seem to be in a different language other than English! Perhaps this is a limitation of the Sentiment Intensity Analyzer.\n",
    "\n",
    "The other 3 reviews seem to be genuinely bad, with users complaining about the lack of A/C and fans, host being rude, construction noise ruining people's stay, poor condition of the place etc."
   ]
  },
  {
   "cell_type": "markdown",
   "metadata": {},
   "source": [
    "### Question 3 - PRICE PREDICTION\n",
    "1. Predict price for a given listing.\n",
    "2. What factors correlate well to predicting price?"
   ]
  },
  {
   "cell_type": "code",
   "execution_count": 34,
   "metadata": {},
   "outputs": [
    {
     "data": {
      "text/plain": [
       "0"
      ]
     },
     "execution_count": 34,
     "metadata": {},
     "output_type": "execute_result"
    }
   ],
   "source": [
    "# Check if price has missing values, if it does, we want to remove those records from the dataset\n",
    "df_listings['price'].isnull().sum()"
   ]
  },
  {
   "cell_type": "markdown",
   "metadata": {},
   "source": [
    "#### Analysis\n",
    "All records in the listings dataset have price information available to use.\n",
    "\n",
    "Based on the field definitions, there are some columns that seem less likely to impact price, so we will drop these from the dataset in order to work with a cleaner and smaller dataset. The reasons for dropping these fields are mostly:\n",
    "\n",
    "ID field or meta data associated with the listing\n",
    "\n",
    "Other fields that capture same/similar information (eg: using country code and dropping country)\n",
    "\n",
    "Dropping very granular fields such as street, zipcode, latitude, longitude etc. and keeping the analysis at the city level\n",
    "\n",
    "The columns we will be dropping are: id,listing_url,scrape_id,last_scraped,thumbnail_url,medium_url,xl_picture_url,host_id, host_url,host_thumbnail_url,host_verifications,street,neighbourhood,neighbourhood_group_cleansed,zipcode,smart_location,country,latitude,longitude,weekly_price,monthly_price,calendar_updated,calendar_last_scraped,first_review,last_review, calculated_host_listings_count,reviews_per_month"
   ]
  },
  {
   "cell_type": "code",
   "execution_count": 35,
   "metadata": {},
   "outputs": [
    {
     "data": {
      "text/plain": [
       "(3818, 92)"
      ]
     },
     "execution_count": 35,
     "metadata": {},
     "output_type": "execute_result"
    }
   ],
   "source": [
    "df_listings.shape"
   ]
  },
  {
   "cell_type": "code",
   "execution_count": 36,
   "metadata": {},
   "outputs": [
    {
     "data": {
      "text/plain": [
       "(3818, 65)"
      ]
     },
     "execution_count": 36,
     "metadata": {},
     "output_type": "execute_result"
    }
   ],
   "source": [
    "# Drop columns that are less likely to have an impact on price\n",
    "df_list = df_listings.copy()\n",
    "cols_less_impact = ['id','listing_url','scrape_id','last_scraped','thumbnail_url','medium_url','xl_picture_url','host_id','host_url','host_thumbnail_url','host_verifications','street','neighbourhood','neighbourhood_group_cleansed','zipcode','smart_location','country','latitude','longitude','weekly_price','monthly_price','calendar_updated','calendar_last_scraped','first_review','last_review','calculated_host_listings_count','reviews_per_month']\n",
    "df_list = df_list.drop(cols_less_impact, axis=1)\n",
    "df_list.shape"
   ]
  },
  {
   "cell_type": "code",
   "execution_count": 37,
   "metadata": {},
   "outputs": [
    {
     "data": {
      "text/plain": [
       "['license']"
      ]
     },
     "execution_count": 37,
     "metadata": {},
     "output_type": "execute_result"
    }
   ],
   "source": [
    "# Find columns with all missing values if any \n",
    "df_list.columns[df_list.isnull().all()].tolist()"
   ]
  },
  {
   "cell_type": "code",
   "execution_count": 38,
   "metadata": {},
   "outputs": [
    {
     "data": {
      "text/plain": [
       "(3818, 64)"
      ]
     },
     "execution_count": 38,
     "metadata": {},
     "output_type": "execute_result"
    }
   ],
   "source": [
    "# Drop license column\n",
    "df_list = df_list.drop('license', axis=1)\n",
    "df_list.shape"
   ]
  },
  {
   "cell_type": "code",
   "execution_count": 39,
   "metadata": {},
   "outputs": [
    {
     "name": "stdout",
     "output_type": "stream",
     "text": [
      "host_listings_count 2\n",
      "host_total_listings_count 2\n",
      "bathrooms 16\n",
      "bedrooms 6\n",
      "beds 1\n",
      "square_feet 3721\n",
      "price 0\n",
      "review_scores_rating 647\n",
      "review_scores_accuracy 658\n",
      "review_scores_cleanliness 653\n",
      "review_scores_checkin 658\n",
      "review_scores_communication 651\n",
      "review_scores_location 655\n",
      "review_scores_value 656\n"
     ]
    }
   ],
   "source": [
    "# Review all the numerical columns and assess missing values\n",
    "\n",
    "num_cols = df_list.select_dtypes(include=['float', 'int']).columns\n",
    "for col in num_cols:\n",
    "    print(col,df_list[col].isnull().sum())"
   ]
  },
  {
   "cell_type": "markdown",
   "metadata": {},
   "source": [
    "#### Analysis\n",
    "bathrooms - There are 16 rows with Nan for bathrooms. Since it's a small percentage of rows, I have decided to set bathrooms to 0 for Nan values\n",
    "\n",
    "bedrooms - Looking at the dataset, since all the rows with blank bedroom field have beds value of at least 1, I will use 1 for bedrooms where bedrooms is Nan\n",
    "\n",
    "beds - For the 1 record that have beds as Nan, bed_type is specified as Real Bed, so I will set beds to 1 for this case\n",
    "\n",
    "square_feet - Since a good percentage of this field is Nan, I am going to drop this column\n",
    "\n",
    "review_scores columns - Since these are review related scores, I will be setting all Nan values to 0 assuming no review scores for these listings.\n",
    "\n",
    "host_listings_count and host_total_listings_count - There are only 2 rows with no values. Looking at the data, I determined that these host IDs only have 1 record associated with them each, so I decided to populate with 1."
   ]
  },
  {
   "cell_type": "code",
   "execution_count": 40,
   "metadata": {},
   "outputs": [],
   "source": [
    "# Set 0 for bathroom where bathroom is Nan\n",
    "df_list['bathrooms'] = df_list['bathrooms'].fillna(0)\n",
    "\n",
    "# Set 1 for bedrooms where bedrooms is Nan\n",
    "df_list['bedrooms'] = df_list['bedrooms'].fillna(1)\n",
    "\n",
    "# Set 1 for beds where beds is Nan\n",
    "df_list['beds'] = df_list['beds'].fillna(1)\n",
    "\n",
    "# Drop square_feet column\n",
    "df_list = df_list.drop('square_feet',axis=1)\n",
    "\n",
    "# Set all review scores columns with 0 for Nan values\n",
    "cols_fillna_0 = ['review_scores_rating','review_scores_accuracy','review_scores_cleanliness','review_scores_checkin','review_scores_communication','review_scores_location','review_scores_value']\n",
    "for col in cols_fillna_0:\n",
    "    df_list[col] = df_list[col].fillna(0)\n",
    "\n",
    "# Set host_listings_count and host_total_listings_count to 1\n",
    "df_list['host_listings_count'] = df_list['host_listings_count'].fillna(1)\n",
    "df_list['host_total_listings_count'] = df_list['host_total_listings_count'].fillna(1)"
   ]
  },
  {
   "cell_type": "code",
   "execution_count": 41,
   "metadata": {},
   "outputs": [
    {
     "name": "stdout",
     "output_type": "stream",
     "text": [
      "host_listings_count 0\n",
      "host_total_listings_count 0\n",
      "bathrooms 0\n",
      "bedrooms 0\n",
      "beds 0\n",
      "price 0\n",
      "review_scores_rating 0\n",
      "review_scores_accuracy 0\n",
      "review_scores_cleanliness 0\n",
      "review_scores_checkin 0\n",
      "review_scores_communication 0\n",
      "review_scores_location 0\n",
      "review_scores_value 0\n"
     ]
    }
   ],
   "source": [
    "# Check again all the numerical columns\n",
    "num_cols = df_list.select_dtypes(include=['float', 'int']).columns\n",
    "for col in num_cols:\n",
    "    print(col,df_list[col].isnull().sum())"
   ]
  },
  {
   "cell_type": "code",
   "execution_count": 42,
   "metadata": {},
   "outputs": [
    {
     "name": "stdout",
     "output_type": "stream",
     "text": [
      "name 0\n",
      "summary 177\n",
      "space 569\n",
      "description 0\n",
      "experiences_offered 0\n",
      "neighborhood_overview 1032\n",
      "notes 1606\n",
      "transit 934\n",
      "picture_url 0\n",
      "host_name 2\n",
      "host_since 2\n",
      "host_location 8\n",
      "host_about 859\n",
      "host_response_time 523\n",
      "host_response_rate 523\n",
      "host_acceptance_rate 773\n",
      "host_is_superhost 2\n",
      "host_picture_url 2\n",
      "host_neighbourhood 300\n",
      "host_has_profile_pic 2\n",
      "host_identity_verified 2\n",
      "neighbourhood_cleansed 0\n",
      "city 0\n",
      "state 0\n",
      "market 0\n",
      "country_code 0\n",
      "is_location_exact 0\n",
      "property_type 1\n",
      "room_type 0\n",
      "bed_type 0\n",
      "amenities 0\n",
      "security_deposit 1952\n",
      "cleaning_fee 1030\n",
      "extra_people 0\n",
      "has_availability 0\n",
      "requires_license 0\n",
      "jurisdiction_names 0\n",
      "instant_bookable 0\n",
      "cancellation_policy 0\n",
      "require_guest_profile_picture 0\n",
      "require_guest_phone_verification 0\n"
     ]
    }
   ],
   "source": [
    "# Review all the categorical columns and assess missing values\n",
    "\n",
    "cat_cols = df_list.select_dtypes(include=['object']).columns\n",
    "for col in cat_cols:\n",
    "        print(col,df_list[col].isnull().sum())"
   ]
  },
  {
   "cell_type": "markdown",
   "metadata": {},
   "source": [
    "#### Analysis\n",
    "summary, space, neighborhood_overview, notes, transit - Since these are all text fields describing the property in some way, I have decided to convert these fields into boolean fields to indicate if a value exists. I am doing so that I can consider listings that have descriptive information available like summary and transit towards price prediction.\n",
    "\n",
    "host_name, host_since, host_location, host_about, host_picture_url, host_neighbourhood - Since these are all fields that are descriptive about the host, I am going to convert these fields into boolean fields as well to indicate if a value exists or not.\n",
    "\n",
    "host_response_time, host_acceptance_rate - These fields seems to have N/A as a valid value, so I will assign N/A where Nan values exist.\n",
    "\n",
    "host_response_rate - Looking at the data, since this is a percentage value and the range is quite distributed, I will be converting this to float and setting N/A and blanks to 0.\n",
    "\n",
    "host_is_superhost, host_has_profile_pic, host_identity_verified - These are boolean fields with t or f values. Assign 1 for t, 0 for f and assign Nans with 0\n",
    "\n",
    "property_type - Since this is just 1 record, we will just drop this record\n",
    "\n",
    "security_deposit - We will assume a 0 security deposit for where it is not specified. We will also remove $ signs and convert to float\n",
    "\n",
    "cleaning_fee - We will assume a 0 cleaning_fee where it is not specified. We will also remove $ signs and convert to float\n",
    "\n",
    "The following fields do not have missing values, but it is important to cleanse these as well.\n",
    "\n",
    "name, description, picture_url - Since these are all text fields as well, I have decided to convert these fields into boolean fields to indicate if a value exists. I am doing so that I can consider listings that have descriptive information available like description and picture_url towards price prediction.\n",
    "\n",
    "experiences_offered - all values in this column is 'None' and it doesn't add any value, so we will be dropping this column\n",
    "\n",
    "market - all values are 'Seattle' in this column, since we have other descriptors for Seattle, we will be dropping this column\n",
    "\n",
    "is_location_exact, has_availability, requires_license, instant_bookable, require_guest_profile_picture, require_guest_phone_verification - these fields have t/f values, will convert to 1/0.\n",
    "\n",
    "extra_people - Need to remove $ sign and convert to float\n",
    "\n",
    "jurisdiction_names - All values are 'WASHINGTON', doesn't add much value, will be dropping this column\n",
    "\n",
    "city - There are some inconsistencies in this field where we have several values for Seattle, for example: \"Seattle\", \"Seattle \" (with a space at the end) and \"seattle\". We will convert all city names to lower case and trim spaces in order to standardize.\n",
    "\n",
    "state - There are both \"WA\" and \"wa\" values for state. We will be converting all state names to lowercase in order to standardize.\n",
    "\n",
    "amenities - this field contains a list of values in each row, we will need to figure out how to handle this column"
   ]
  },
  {
   "cell_type": "code",
   "execution_count": 43,
   "metadata": {},
   "outputs": [],
   "source": [
    "# Function to set all text fields to boolean\n",
    "def set_bool_text(textdata):\n",
    "    '''\n",
    "    Function to set all text fields to boolean\n",
    "    INPUT:\n",
    "    textdata - the textdata that needs to be converted into a bool value \n",
    "    OUTPUT:\n",
    "    Boolean 0 or 1 - Returns 0 if no text passed, 1 otherwise to indicate presence of the text field\n",
    "    \n",
    "    Converts the text columns into a boolean field representing the presence or absence of the text field\n",
    "    '''\n",
    "    if not textdata:\n",
    "        return 0\n",
    "    else:\n",
    "        return 1\n",
    "\n",
    "\n",
    "text_host_fields = ['summary','space','neighborhood_overview','notes','transit','name','description','picture_url','host_name','host_since','host_location','host_about','host_picture_url','host_neighbourhood']\n",
    "for t in text_host_fields:\n",
    "    df_list[t] = df_list[t].apply(set_bool_text)"
   ]
  },
  {
   "cell_type": "code",
   "execution_count": 44,
   "metadata": {},
   "outputs": [],
   "source": [
    "# Function to set all t/f fields to 1/0\n",
    "def set_bool_tf(tfdata):\n",
    "    '''\n",
    "    Function to set all true/false fields to 1 or 0\n",
    "    INPUT:\n",
    "    tfdata - the true or false fields that have 't' and 'f' values that we would like to convert to boolean\n",
    "    OUTPUT:\n",
    "    Boolean 0 or 1 - Returns 0 if false, 1 for true\n",
    "    \n",
    "    Converts a true or false type field into a boolean with 1 and 0s\n",
    "    '''\n",
    "    if tfdata == 't':\n",
    "        return 1\n",
    "    else: \n",
    "        return 0\n",
    "\n",
    "tf_fields = ['host_is_superhost','host_has_profile_pic','host_identity_verified','is_location_exact','has_availability','requires_license','instant_bookable','require_guest_profile_picture','require_guest_phone_verification']\n",
    "for t in tf_fields:\n",
    "    df_list[t] = df_list[t].apply(set_bool_tf)"
   ]
  },
  {
   "cell_type": "code",
   "execution_count": 45,
   "metadata": {},
   "outputs": [],
   "source": [
    "# Assign N/A to applicable host fields\n",
    "df_list['host_response_time'] = df_list['host_response_time'].fillna('N/A')\n",
    "df_list['host_acceptance_rate'] = df_list['host_acceptance_rate'].fillna('N/A')\n",
    "\n",
    "df_list['host_response_rate'] = df_list['host_response_rate'].apply(lambda x: 0 if x == 'N/A' else x)\n",
    "df_list['host_response_rate'] = df_list['host_response_rate'].replace('[\\%,]', '', regex=True).astype(float)\n",
    "df_list['host_response_rate'] = df_list['host_response_rate'].fillna(0)\n",
    "\n",
    "# Drop record with empty value for property_type\n",
    "df_list = df_list.dropna(subset=['property_type'], axis=0)\n",
    "\n",
    "# Clean security_deposit, cleaning_fee and extra people\n",
    "df_list['security_deposit'] = df_list['security_deposit'].replace('[\\$,]', '', regex=True).astype(float)\n",
    "df_list['cleaning_fee'] = df_list['cleaning_fee'].replace('[\\$,]', '', regex=True).astype(float)\n",
    "df_list['extra_people'] = df_list['extra_people'].replace('[\\$,]', '', regex=True).astype(float)\n",
    "df_list['security_deposit'] = df_list['security_deposit'].fillna(0)\n",
    "df_list['cleaning_fee'] = df_list['cleaning_fee'].fillna(0)\n",
    "\n",
    "# Drop columns experiences_offered, market and jurisdiction_name\n",
    "df_list = df_list.drop(['experiences_offered','market','jurisdiction_names',], axis = 1)\n",
    "\n",
    "# Clean up city names\n",
    "df_list['city'] = df_list['city'].str.lower()\n",
    "df_list['city'] = df_list['city'].str.strip()\n",
    "df_list['state'] = df_list['state'].str.lower()\n"
   ]
  },
  {
   "cell_type": "code",
   "execution_count": 46,
   "metadata": {},
   "outputs": [
    {
     "name": "stdout",
     "output_type": "stream",
     "text": [
      "host_response_time 0\n",
      "host_acceptance_rate 0\n",
      "neighbourhood_cleansed 0\n",
      "city 0\n",
      "state 0\n",
      "country_code 0\n",
      "property_type 0\n",
      "room_type 0\n",
      "bed_type 0\n",
      "amenities 0\n",
      "cancellation_policy 0\n"
     ]
    }
   ],
   "source": [
    "# Check if missing values are all taken care of\n",
    "cat_cols = df_list.select_dtypes(include=['object']).columns\n",
    "for col in cat_cols:\n",
    "        print(col,df_list[col].isnull().sum())"
   ]
  },
  {
   "cell_type": "markdown",
   "metadata": {},
   "source": [
    "#### HANDLE AMENITIES\n",
    "In order to handle the amenities column, we will try to understand which are some of the most common amenities that are present within the listings. Once we know which amenities are important, we will create additional columns to represent each amenity as a boolean field."
   ]
  },
  {
   "cell_type": "code",
   "execution_count": 47,
   "metadata": {},
   "outputs": [
    {
     "data": {
      "text/plain": [
       "[('Wireless Internet', 3666),\n",
       " ('Heating', 3626),\n",
       " ('Kitchen', 3422),\n",
       " ('Smoke Detector', 3280),\n",
       " ('Essentials', 3237),\n",
       " ('Dryer', 2996),\n",
       " ('Washer', 2991),\n",
       " ('Internet', 2811),\n",
       " ('Shampoo', 2670),\n",
       " ('TV', 2574),\n",
       " ('Carbon Monoxide Detector', 2485),\n",
       " ('Fire Extinguisher', 2196),\n",
       " ('Free Parking on Premises', 2166),\n",
       " ('Family/Kid Friendly', 1962),\n",
       " ('First Aid Kit', 1679),\n",
       " ('Cable TV', 1446),\n",
       " ('Indoor Fireplace', 885),\n",
       " ('Pets live on this property', 882),\n",
       " ('Hangers', 846),\n",
       " ('Elevator in Building', 785),\n",
       " ('Hair Dryer', 774),\n",
       " ('Laptop Friendly Workspace', 745),\n",
       " ('Iron', 742),\n",
       " ('Safety Card', 727),\n",
       " ('Air Conditioning', 677),\n",
       " ('24-Hour Check-in', 616),\n",
       " ('Buzzer/Wireless Intercom', 538),\n",
       " ('Dog(s)', 508),\n",
       " ('Pets Allowed', 472),\n",
       " ('Gym', 442),\n",
       " ('Cat(s)', 382),\n",
       " ('Hot Tub', 303),\n",
       " ('Wheelchair Accessible', 300),\n",
       " ('Breakfast', 291),\n",
       " ('Suitable for Events', 209),\n",
       " ('Pool', 159),\n",
       " ('Lock on Bedroom Door', 100),\n",
       " ('Doorman', 85),\n",
       " ('Smoking Allowed', 82),\n",
       " ('Other pet(s)', 50),\n",
       " ('', 45),\n",
       " ('Washer / Dryer', 2)]"
      ]
     },
     "execution_count": 47,
     "metadata": {},
     "output_type": "execute_result"
    }
   ],
   "source": [
    "# Handle amenities - Explore most common amenities\n",
    "amenities = []\n",
    "for index, row in df_list.iterrows():\n",
    "    row['amenities'] = row['amenities'].replace('{','')\n",
    "    row['amenities'] = row['amenities'].replace('}','')\n",
    "    row['amenities'] = row['amenities'].replace('\"','')\n",
    "    mylist = row['amenities'].split(',')\n",
    "    for l in mylist:\n",
    "        amenities.append(l)\n",
    "    \n",
    "amenities_count = Counter(amenities)\n",
    "amenities_count.most_common()"
   ]
  },
  {
   "cell_type": "markdown",
   "metadata": {},
   "source": [
    "#### Analysis\n",
    "Based on the above, I decided to take those amenities that are present more than 2000 times (about 52% compared to entire dataset), which is below.\n",
    "\n",
    "('Wireless Internet', 3666), ('Heating', 3626), ('Kitchen', 3422), ('Smoke Detector', 3280), ('Essentials', 3237), ('Dryer', 2996), ('Washer', 2991), ('Internet', 2811), ('Shampoo', 2670), ('TV', 2574), ('Carbon Monoxide Detector', 2485), ('Fire Extinguisher', 2196), ('Free Parking on Premises', 2166),"
   ]
  },
  {
   "cell_type": "code",
   "execution_count": 48,
   "metadata": {},
   "outputs": [],
   "source": [
    "amenities_new_cols =['amenities_wireless_internet|Wireless Internet','amenities_heating|Heating','amenities_kitchen|Kitchen','amenities_smoke_detector|Smoke Detector','amenities_essentials|Essentials','amenities_dryer|Dryer','amenities_washer|Washer','amenities_internet|Internet','amenities_shampoo|Shampoo','amenities_tv|TV','amenities_carbon_monoxide_detector|Carbon Monoxide Detector','amenities_fire_extinguisher|Fire Extinguisher','amenities_free_parking|Free Parking on Premises']\n",
    "for c in amenities_new_cols:\n",
    "    c_colname,c_desc = c.split('|')\n",
    "    df_list[c_colname] = df_list['amenities'].apply(lambda x: 1 if c_desc in x else 0)"
   ]
  },
  {
   "cell_type": "code",
   "execution_count": 49,
   "metadata": {},
   "outputs": [],
   "source": [
    "# Drop the original amenities field\n",
    "df_list = df_list.drop('amenities', axis = 1)"
   ]
  },
  {
   "cell_type": "code",
   "execution_count": 50,
   "metadata": {},
   "outputs": [
    {
     "data": {
      "text/plain": [
       "(3817, 72)"
      ]
     },
     "execution_count": 50,
     "metadata": {},
     "output_type": "execute_result"
    }
   ],
   "source": [
    "df_list.shape"
   ]
  },
  {
   "cell_type": "code",
   "execution_count": 51,
   "metadata": {},
   "outputs": [
    {
     "data": {
      "text/plain": [
       "Index(['host_response_time', 'host_acceptance_rate', 'neighbourhood_cleansed',\n",
       "       'city', 'state', 'country_code', 'property_type', 'room_type',\n",
       "       'bed_type', 'cancellation_policy'],\n",
       "      dtype='object')"
      ]
     },
     "execution_count": 51,
     "metadata": {},
     "output_type": "execute_result"
    }
   ],
   "source": [
    "# Review the remaining object columns\n",
    "df_list.select_dtypes(include=['object']).columns"
   ]
  },
  {
   "cell_type": "code",
   "execution_count": 52,
   "metadata": {},
   "outputs": [
    {
     "data": {
      "text/html": [
       "<div>\n",
       "<style scoped>\n",
       "    .dataframe tbody tr th:only-of-type {\n",
       "        vertical-align: middle;\n",
       "    }\n",
       "\n",
       "    .dataframe tbody tr th {\n",
       "        vertical-align: top;\n",
       "    }\n",
       "\n",
       "    .dataframe thead th {\n",
       "        text-align: right;\n",
       "    }\n",
       "</style>\n",
       "<table border=\"1\" class=\"dataframe\">\n",
       "  <thead>\n",
       "    <tr style=\"text-align: right;\">\n",
       "      <th></th>\n",
       "      <th>name</th>\n",
       "      <th>summary</th>\n",
       "      <th>space</th>\n",
       "      <th>description</th>\n",
       "      <th>neighborhood_overview</th>\n",
       "      <th>notes</th>\n",
       "      <th>transit</th>\n",
       "      <th>picture_url</th>\n",
       "      <th>host_name</th>\n",
       "      <th>host_since</th>\n",
       "      <th>...</th>\n",
       "      <th>room_type_Private room</th>\n",
       "      <th>room_type_Shared room</th>\n",
       "      <th>bed_type_Airbed</th>\n",
       "      <th>bed_type_Couch</th>\n",
       "      <th>bed_type_Futon</th>\n",
       "      <th>bed_type_Pull-out Sofa</th>\n",
       "      <th>bed_type_Real Bed</th>\n",
       "      <th>cancellation_policy_flexible</th>\n",
       "      <th>cancellation_policy_moderate</th>\n",
       "      <th>cancellation_policy_strict</th>\n",
       "    </tr>\n",
       "  </thead>\n",
       "  <tbody>\n",
       "    <tr>\n",
       "      <th>0</th>\n",
       "      <td>1</td>\n",
       "      <td>1</td>\n",
       "      <td>1</td>\n",
       "      <td>1</td>\n",
       "      <td>1</td>\n",
       "      <td>1</td>\n",
       "      <td>1</td>\n",
       "      <td>1</td>\n",
       "      <td>1</td>\n",
       "      <td>1</td>\n",
       "      <td>...</td>\n",
       "      <td>0</td>\n",
       "      <td>0</td>\n",
       "      <td>0</td>\n",
       "      <td>0</td>\n",
       "      <td>0</td>\n",
       "      <td>0</td>\n",
       "      <td>1</td>\n",
       "      <td>0</td>\n",
       "      <td>1</td>\n",
       "      <td>0</td>\n",
       "    </tr>\n",
       "    <tr>\n",
       "      <th>1</th>\n",
       "      <td>1</td>\n",
       "      <td>1</td>\n",
       "      <td>1</td>\n",
       "      <td>1</td>\n",
       "      <td>1</td>\n",
       "      <td>1</td>\n",
       "      <td>1</td>\n",
       "      <td>1</td>\n",
       "      <td>1</td>\n",
       "      <td>1</td>\n",
       "      <td>...</td>\n",
       "      <td>0</td>\n",
       "      <td>0</td>\n",
       "      <td>0</td>\n",
       "      <td>0</td>\n",
       "      <td>0</td>\n",
       "      <td>0</td>\n",
       "      <td>1</td>\n",
       "      <td>0</td>\n",
       "      <td>0</td>\n",
       "      <td>1</td>\n",
       "    </tr>\n",
       "    <tr>\n",
       "      <th>2</th>\n",
       "      <td>1</td>\n",
       "      <td>1</td>\n",
       "      <td>1</td>\n",
       "      <td>1</td>\n",
       "      <td>1</td>\n",
       "      <td>1</td>\n",
       "      <td>1</td>\n",
       "      <td>1</td>\n",
       "      <td>1</td>\n",
       "      <td>1</td>\n",
       "      <td>...</td>\n",
       "      <td>0</td>\n",
       "      <td>0</td>\n",
       "      <td>0</td>\n",
       "      <td>0</td>\n",
       "      <td>0</td>\n",
       "      <td>0</td>\n",
       "      <td>1</td>\n",
       "      <td>0</td>\n",
       "      <td>0</td>\n",
       "      <td>1</td>\n",
       "    </tr>\n",
       "    <tr>\n",
       "      <th>3</th>\n",
       "      <td>1</td>\n",
       "      <td>1</td>\n",
       "      <td>1</td>\n",
       "      <td>1</td>\n",
       "      <td>1</td>\n",
       "      <td>1</td>\n",
       "      <td>1</td>\n",
       "      <td>1</td>\n",
       "      <td>1</td>\n",
       "      <td>1</td>\n",
       "      <td>...</td>\n",
       "      <td>0</td>\n",
       "      <td>0</td>\n",
       "      <td>0</td>\n",
       "      <td>0</td>\n",
       "      <td>0</td>\n",
       "      <td>0</td>\n",
       "      <td>1</td>\n",
       "      <td>1</td>\n",
       "      <td>0</td>\n",
       "      <td>0</td>\n",
       "    </tr>\n",
       "    <tr>\n",
       "      <th>4</th>\n",
       "      <td>1</td>\n",
       "      <td>1</td>\n",
       "      <td>1</td>\n",
       "      <td>1</td>\n",
       "      <td>1</td>\n",
       "      <td>1</td>\n",
       "      <td>1</td>\n",
       "      <td>1</td>\n",
       "      <td>1</td>\n",
       "      <td>1</td>\n",
       "      <td>...</td>\n",
       "      <td>0</td>\n",
       "      <td>0</td>\n",
       "      <td>0</td>\n",
       "      <td>0</td>\n",
       "      <td>0</td>\n",
       "      <td>0</td>\n",
       "      <td>1</td>\n",
       "      <td>0</td>\n",
       "      <td>0</td>\n",
       "      <td>1</td>\n",
       "    </tr>\n",
       "  </tbody>\n",
       "</table>\n",
       "<p>5 rows × 191 columns</p>\n",
       "</div>"
      ],
      "text/plain": [
       "   name  summary  space  description  neighborhood_overview  notes  transit  \\\n",
       "0     1        1      1            1                      1      1        1   \n",
       "1     1        1      1            1                      1      1        1   \n",
       "2     1        1      1            1                      1      1        1   \n",
       "3     1        1      1            1                      1      1        1   \n",
       "4     1        1      1            1                      1      1        1   \n",
       "\n",
       "   picture_url  host_name  host_since  ...  room_type_Private room  \\\n",
       "0            1          1           1  ...                       0   \n",
       "1            1          1           1  ...                       0   \n",
       "2            1          1           1  ...                       0   \n",
       "3            1          1           1  ...                       0   \n",
       "4            1          1           1  ...                       0   \n",
       "\n",
       "   room_type_Shared room  bed_type_Airbed  bed_type_Couch  bed_type_Futon  \\\n",
       "0                      0                0               0               0   \n",
       "1                      0                0               0               0   \n",
       "2                      0                0               0               0   \n",
       "3                      0                0               0               0   \n",
       "4                      0                0               0               0   \n",
       "\n",
       "   bed_type_Pull-out Sofa  bed_type_Real Bed  cancellation_policy_flexible  \\\n",
       "0                       0                  1                             0   \n",
       "1                       0                  1                             0   \n",
       "2                       0                  1                             0   \n",
       "3                       0                  1                             1   \n",
       "4                       0                  1                             0   \n",
       "\n",
       "   cancellation_policy_moderate  cancellation_policy_strict  \n",
       "0                             1                           0  \n",
       "1                             0                           1  \n",
       "2                             0                           1  \n",
       "3                             0                           0  \n",
       "4                             0                           1  \n",
       "\n",
       "[5 rows x 191 columns]"
      ]
     },
     "execution_count": 52,
     "metadata": {},
     "output_type": "execute_result"
    }
   ],
   "source": [
    "# Get Dummies for categorical fields\n",
    "cat_fields = df_list.select_dtypes(include=['object']).columns\n",
    "\n",
    "df_list = pd.get_dummies(df_list, columns=cat_fields)\n",
    "df_list.head()"
   ]
  },
  {
   "cell_type": "code",
   "execution_count": 53,
   "metadata": {},
   "outputs": [
    {
     "data": {
      "text/plain": [
       "(3817, 191)"
      ]
     },
     "execution_count": 53,
     "metadata": {},
     "output_type": "execute_result"
    }
   ],
   "source": [
    "df_list.shape"
   ]
  },
  {
   "cell_type": "code",
   "execution_count": 55,
   "metadata": {},
   "outputs": [],
   "source": [
    "# Build out X and y, y to be price column and X to be all the other columns\n",
    "y = df_list['price']\n",
    "X = df_list.drop(['price'], axis=1)"
   ]
  },
  {
   "cell_type": "markdown",
   "metadata": {},
   "source": [
    "### 4. MODELING"
   ]
  },
  {
   "cell_type": "code",
   "execution_count": 56,
   "metadata": {},
   "outputs": [
    {
     "name": "stdout",
     "output_type": "stream",
     "text": [
      "(2671, 190) (2671,)\n",
      "(1146, 190) (1146,)\n"
     ]
    }
   ],
   "source": [
    "# Create train and test data sets\n",
    "X_train, X_test, y_train, y_test = train_test_split(X, y, test_size = .30, random_state=42) \n",
    "\n",
    "print(X_train.shape, y_train.shape)\n",
    "print(X_test.shape, y_test.shape)"
   ]
  },
  {
   "cell_type": "code",
   "execution_count": 57,
   "metadata": {},
   "outputs": [
    {
     "name": "stdout",
     "output_type": "stream",
     "text": [
      "The rsquared score on the training data was 0.626220030507479.  The rsquared score on the test data was 0.6238377518892293.\n"
     ]
    }
   ],
   "source": [
    "# Instantiate linear regression model and fit it to training data set\n",
    "lm_model = LinearRegression(normalize=True) \n",
    "lm_model.fit(X_train, y_train) \n",
    "        \n",
    "# Predict and score the model\n",
    "y_train_preds = lm_model.predict(X_train)\n",
    "y_test_preds = lm_model.predict(X_test) \n",
    "train_score = r2_score(y_train, y_train_preds)\n",
    "test_score = r2_score(y_test,y_test_preds)\n",
    "print(\"The rsquared score on the training data was {}.  The rsquared score on the test data was {}.\".format(train_score, test_score))"
   ]
  },
  {
   "cell_type": "markdown",
   "metadata": {},
   "source": [
    "### 5. EVALUATION"
   ]
  },
  {
   "cell_type": "code",
   "execution_count": 58,
   "metadata": {},
   "outputs": [
    {
     "data": {
      "text/html": [
       "<div>\n",
       "<style scoped>\n",
       "    .dataframe tbody tr th:only-of-type {\n",
       "        vertical-align: middle;\n",
       "    }\n",
       "\n",
       "    .dataframe tbody tr th {\n",
       "        vertical-align: top;\n",
       "    }\n",
       "\n",
       "    .dataframe thead th {\n",
       "        text-align: right;\n",
       "    }\n",
       "</style>\n",
       "<table border=\"1\" class=\"dataframe\">\n",
       "  <thead>\n",
       "    <tr style=\"text-align: right;\">\n",
       "      <th></th>\n",
       "      <th>est_int</th>\n",
       "      <th>coefs</th>\n",
       "      <th>abs_coefs</th>\n",
       "    </tr>\n",
       "  </thead>\n",
       "  <tbody>\n",
       "    <tr>\n",
       "      <th>8</th>\n",
       "      <td>host_name</td>\n",
       "      <td>8.132960e+15</td>\n",
       "      <td>8.132960e+15</td>\n",
       "    </tr>\n",
       "    <tr>\n",
       "      <th>31</th>\n",
       "      <td>has_availability</td>\n",
       "      <td>7.023049e+15</td>\n",
       "      <td>7.023049e+15</td>\n",
       "    </tr>\n",
       "    <tr>\n",
       "      <th>6</th>\n",
       "      <td>transit</td>\n",
       "      <td>-6.931035e+15</td>\n",
       "      <td>6.931035e+15</td>\n",
       "    </tr>\n",
       "    <tr>\n",
       "      <th>2</th>\n",
       "      <td>space</td>\n",
       "      <td>-5.359101e+15</td>\n",
       "      <td>5.359101e+15</td>\n",
       "    </tr>\n",
       "    <tr>\n",
       "      <th>44</th>\n",
       "      <td>requires_license</td>\n",
       "      <td>4.768541e+15</td>\n",
       "      <td>4.768541e+15</td>\n",
       "    </tr>\n",
       "    <tr>\n",
       "      <th>11</th>\n",
       "      <td>host_about</td>\n",
       "      <td>-4.665842e+15</td>\n",
       "      <td>4.665842e+15</td>\n",
       "    </tr>\n",
       "    <tr>\n",
       "      <th>5</th>\n",
       "      <td>notes</td>\n",
       "      <td>4.248163e+15</td>\n",
       "      <td>4.248163e+15</td>\n",
       "    </tr>\n",
       "    <tr>\n",
       "      <th>14</th>\n",
       "      <td>host_picture_url</td>\n",
       "      <td>-3.573907e+15</td>\n",
       "      <td>3.573907e+15</td>\n",
       "    </tr>\n",
       "    <tr>\n",
       "      <th>4</th>\n",
       "      <td>neighborhood_overview</td>\n",
       "      <td>3.127366e+15</td>\n",
       "      <td>3.127366e+15</td>\n",
       "    </tr>\n",
       "    <tr>\n",
       "      <th>9</th>\n",
       "      <td>host_since</td>\n",
       "      <td>2.296115e+15</td>\n",
       "      <td>2.296115e+15</td>\n",
       "    </tr>\n",
       "  </tbody>\n",
       "</table>\n",
       "</div>"
      ],
      "text/plain": [
       "                  est_int         coefs     abs_coefs\n",
       "8               host_name  8.132960e+15  8.132960e+15\n",
       "31       has_availability  7.023049e+15  7.023049e+15\n",
       "6                 transit -6.931035e+15  6.931035e+15\n",
       "2                   space -5.359101e+15  5.359101e+15\n",
       "44       requires_license  4.768541e+15  4.768541e+15\n",
       "11             host_about -4.665842e+15  4.665842e+15\n",
       "5                   notes  4.248163e+15  4.248163e+15\n",
       "14       host_picture_url -3.573907e+15  3.573907e+15\n",
       "4   neighborhood_overview  3.127366e+15  3.127366e+15\n",
       "9              host_since  2.296115e+15  2.296115e+15"
      ]
     },
     "execution_count": 58,
     "metadata": {},
     "output_type": "execute_result"
    }
   ],
   "source": [
    "def coef_weights(coefficients, X_train):\n",
    "    '''\n",
    "    Function to get coefficients back for each of the features\n",
    "    INPUT:\n",
    "    coefficients - the coefficients of the linear model \n",
    "    X_train - the training data, so the column names can be used\n",
    "    OUTPUT:\n",
    "    coefs_df - a dataframe holding the coefficient, estimate, and abs(estimate)\n",
    "    \n",
    "    Provides a dataframe that can be used to understand the most influential coefficients\n",
    "    in a linear model by providing the coefficient estimates along with the name of the \n",
    "    variable attached to the coefficient.\n",
    "    '''\n",
    "    coefs_df = pd.DataFrame()\n",
    "    coefs_df['est_int'] = X_train.columns\n",
    "    coefs_df['coefs'] = lm_model.coef_\n",
    "    coefs_df['abs_coefs'] = np.abs(lm_model.coef_)\n",
    "    coefs_df = coefs_df.sort_values('abs_coefs', ascending=False)\n",
    "    return coefs_df\n",
    "\n",
    "#Use the function\n",
    "coef_df = coef_weights(lm_model.coef_, X_train)\n",
    "\n",
    "#A quick look at the top results\n",
    "coef_df.head(10)"
   ]
  },
  {
   "cell_type": "markdown",
   "metadata": {},
   "source": [
    "#### Analysis\n",
    "After cleaning up the data set, I was able to get an r2score of 0.62 on both training and test data sets. Based on the above coefficient analysis, the features that have the most impact on price are a combination of host details and descriptive information about the listing such as host_name, has_availability, transit, space, host_about, notes, neighborhood_overview etc.\n",
    "\n",
    "Of course, needless to say, these results may be impacted based on how the data was standardized and some of the choices made."
   ]
  }
 ],
 "metadata": {
  "kernelspec": {
   "display_name": "Python 3",
   "language": "python",
   "name": "python3"
  },
  "language_info": {
   "codemirror_mode": {
    "name": "ipython",
    "version": 3
   },
   "file_extension": ".py",
   "mimetype": "text/x-python",
   "name": "python",
   "nbconvert_exporter": "python",
   "pygments_lexer": "ipython3",
   "version": "3.7.6"
  }
 },
 "nbformat": 4,
 "nbformat_minor": 4
}
